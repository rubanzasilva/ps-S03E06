{
 "cells": [
  {
   "cell_type": "code",
   "execution_count": 1,
   "id": "d6c151bd",
   "metadata": {
    "_cell_guid": "b1076dfc-b9ad-4769-8c92-a6c4dae69d19",
    "_uuid": "8f2839f25d086af736a60e9eeb907d3b93b6e0e5",
    "execution": {
     "iopub.execute_input": "2023-02-16T15:33:10.669973Z",
     "iopub.status.busy": "2023-02-16T15:33:10.668882Z",
     "iopub.status.idle": "2023-02-16T15:33:10.685671Z",
     "shell.execute_reply": "2023-02-16T15:33:10.684599Z"
    },
    "papermill": {
     "duration": 0.031738,
     "end_time": "2023-02-16T15:33:10.688920",
     "exception": false,
     "start_time": "2023-02-16T15:33:10.657182",
     "status": "completed"
    },
    "tags": []
   },
   "outputs": [
    {
     "name": "stdout",
     "output_type": "stream",
     "text": [
      "/kaggle/input/playground-series-s3e6/sample_submission.csv\n",
      "/kaggle/input/playground-series-s3e6/train.csv\n",
      "/kaggle/input/playground-series-s3e6/test.csv\n"
     ]
    }
   ],
   "source": [
    "# This Python 3 environment comes with many helpful analytics libraries installed\n",
    "# It is defined by the kaggle/python Docker image: https://github.com/kaggle/docker-python\n",
    "# For example, here's several helpful packages to load\n",
    "\n",
    "import numpy as np # linear algebra\n",
    "import pandas as pd # data processing, CSV file I/O (e.g. pd.read_csv)\n",
    "\n",
    "# Input data files are available in the read-only \"../input/\" directory\n",
    "# For example, running this (by clicking run or pressing Shift+Enter) will list all files under the input directory\n",
    "\n",
    "import os\n",
    "for dirname, _, filenames in os.walk('/kaggle/input'):\n",
    "    for filename in filenames:\n",
    "        print(os.path.join(dirname, filename))\n",
    "\n",
    "# You can write up to 20GB to the current directory (/kaggle/working/) that gets preserved as output when you create a version using \"Save & Run All\" \n",
    "# You can also write temporary files to /kaggle/temp/, but they won't be saved outside of the current session"
   ]
  },
  {
   "cell_type": "markdown",
   "id": "651f4394",
   "metadata": {
    "papermill": {
     "duration": 0.00625,
     "end_time": "2023-02-16T15:33:10.702934",
     "exception": false,
     "start_time": "2023-02-16T15:33:10.696684",
     "status": "completed"
    },
    "tags": []
   },
   "source": [
    "# **Solution for playground series season 3 episode 6**"
   ]
  },
  {
   "cell_type": "markdown",
   "id": "b2f72efa",
   "metadata": {
    "papermill": {
     "duration": 0.006549,
     "end_time": "2023-02-16T15:33:10.715742",
     "exception": false,
     "start_time": "2023-02-16T15:33:10.709193",
     "status": "completed"
    },
    "tags": []
   },
   "source": [
    "**Fastai solution**"
   ]
  },
  {
   "cell_type": "markdown",
   "id": "917c747d",
   "metadata": {
    "papermill": {
     "duration": 0.006205,
     "end_time": "2023-02-16T15:33:10.728177",
     "exception": false,
     "start_time": "2023-02-16T15:33:10.721972",
     "status": "completed"
    },
    "tags": []
   },
   "source": [
    "Imports"
   ]
  },
  {
   "cell_type": "code",
   "execution_count": 2,
   "id": "55083b9f",
   "metadata": {
    "execution": {
     "iopub.execute_input": "2023-02-16T15:33:10.743344Z",
     "iopub.status.busy": "2023-02-16T15:33:10.741874Z",
     "iopub.status.idle": "2023-02-16T15:33:13.915771Z",
     "shell.execute_reply": "2023-02-16T15:33:13.914684Z"
    },
    "papermill": {
     "duration": 3.18388,
     "end_time": "2023-02-16T15:33:13.918584",
     "exception": false,
     "start_time": "2023-02-16T15:33:10.734704",
     "status": "completed"
    },
    "tags": []
   },
   "outputs": [],
   "source": [
    "from fastai.tabular.all import *\n",
    "import pandas as pd\n",
    "import matplotlib.pyplot as plt\n",
    "import seaborn as sns\n",
    "import numpy as np\n"
   ]
  },
  {
   "cell_type": "code",
   "execution_count": 3,
   "id": "4340afd9",
   "metadata": {
    "execution": {
     "iopub.execute_input": "2023-02-16T15:33:13.936835Z",
     "iopub.status.busy": "2023-02-16T15:33:13.934417Z",
     "iopub.status.idle": "2023-02-16T15:33:14.937388Z",
     "shell.execute_reply": "2023-02-16T15:33:14.935854Z"
    },
    "papermill": {
     "duration": 1.014315,
     "end_time": "2023-02-16T15:33:14.940235",
     "exception": false,
     "start_time": "2023-02-16T15:33:13.925920",
     "status": "completed"
    },
    "tags": []
   },
   "outputs": [
    {
     "name": "stdout",
     "output_type": "stream",
     "text": [
      "/bin/bash: /opt/conda/lib/libtinfo.so.6: no version information available (required by /bin/bash)\r\n",
      "sample_submission.csv  test.csv  train.csv\r\n"
     ]
    }
   ],
   "source": [
    "!ls /kaggle/input/playground-series-s3e6"
   ]
  },
  {
   "cell_type": "code",
   "execution_count": 4,
   "id": "91467d9b",
   "metadata": {
    "execution": {
     "iopub.execute_input": "2023-02-16T15:33:14.957249Z",
     "iopub.status.busy": "2023-02-16T15:33:14.956805Z",
     "iopub.status.idle": "2023-02-16T15:33:14.967069Z",
     "shell.execute_reply": "2023-02-16T15:33:14.966038Z"
    },
    "papermill": {
     "duration": 0.021127,
     "end_time": "2023-02-16T15:33:14.969207",
     "exception": false,
     "start_time": "2023-02-16T15:33:14.948080",
     "status": "completed"
    },
    "tags": []
   },
   "outputs": [
    {
     "data": {
      "text/plain": [
       "Path('/kaggle/input/playground-series-s3e6')"
      ]
     },
     "execution_count": 4,
     "metadata": {},
     "output_type": "execute_result"
    }
   ],
   "source": [
    "path = Path('/kaggle/input/playground-series-s3e6')\n",
    "path"
   ]
  },
  {
   "cell_type": "markdown",
   "id": "09278b0a",
   "metadata": {
    "papermill": {
     "duration": 0.007096,
     "end_time": "2023-02-16T15:33:14.983793",
     "exception": false,
     "start_time": "2023-02-16T15:33:14.976697",
     "status": "completed"
    },
    "tags": []
   },
   "source": [
    "Define dataframes"
   ]
  },
  {
   "cell_type": "code",
   "execution_count": 5,
   "id": "c7e741ba",
   "metadata": {
    "execution": {
     "iopub.execute_input": "2023-02-16T15:33:14.999432Z",
     "iopub.status.busy": "2023-02-16T15:33:14.998693Z",
     "iopub.status.idle": "2023-02-16T15:33:15.130321Z",
     "shell.execute_reply": "2023-02-16T15:33:15.129138Z"
    },
    "papermill": {
     "duration": 0.141975,
     "end_time": "2023-02-16T15:33:15.132963",
     "exception": false,
     "start_time": "2023-02-16T15:33:14.990988",
     "status": "completed"
    },
    "tags": []
   },
   "outputs": [],
   "source": [
    "train_df = pd.read_csv(path/'train.csv', index_col='id')\n",
    "test_df = pd.read_csv(path/'test.csv', index_col = 'id')\n",
    "sample_df = pd.read_csv(path/'sample_submission.csv', index_col = 'id')"
   ]
  },
  {
   "cell_type": "code",
   "execution_count": 6,
   "id": "4e56ea78",
   "metadata": {
    "execution": {
     "iopub.execute_input": "2023-02-16T15:33:15.147958Z",
     "iopub.status.busy": "2023-02-16T15:33:15.147645Z",
     "iopub.status.idle": "2023-02-16T15:33:15.171139Z",
     "shell.execute_reply": "2023-02-16T15:33:15.170103Z"
    },
    "papermill": {
     "duration": 0.034039,
     "end_time": "2023-02-16T15:33:15.174039",
     "exception": false,
     "start_time": "2023-02-16T15:33:15.140000",
     "status": "completed"
    },
    "tags": []
   },
   "outputs": [
    {
     "data": {
      "text/html": [
       "<div>\n",
       "<style scoped>\n",
       "    .dataframe tbody tr th:only-of-type {\n",
       "        vertical-align: middle;\n",
       "    }\n",
       "\n",
       "    .dataframe tbody tr th {\n",
       "        vertical-align: top;\n",
       "    }\n",
       "\n",
       "    .dataframe thead th {\n",
       "        text-align: right;\n",
       "    }\n",
       "</style>\n",
       "<table border=\"1\" class=\"dataframe\">\n",
       "  <thead>\n",
       "    <tr style=\"text-align: right;\">\n",
       "      <th></th>\n",
       "      <th>squareMeters</th>\n",
       "      <th>numberOfRooms</th>\n",
       "      <th>hasYard</th>\n",
       "      <th>hasPool</th>\n",
       "      <th>floors</th>\n",
       "      <th>cityCode</th>\n",
       "      <th>cityPartRange</th>\n",
       "      <th>numPrevOwners</th>\n",
       "      <th>made</th>\n",
       "      <th>isNewBuilt</th>\n",
       "      <th>hasStormProtector</th>\n",
       "      <th>basement</th>\n",
       "      <th>attic</th>\n",
       "      <th>garage</th>\n",
       "      <th>hasStorageRoom</th>\n",
       "      <th>hasGuestRoom</th>\n",
       "      <th>price</th>\n",
       "    </tr>\n",
       "    <tr>\n",
       "      <th>id</th>\n",
       "      <th></th>\n",
       "      <th></th>\n",
       "      <th></th>\n",
       "      <th></th>\n",
       "      <th></th>\n",
       "      <th></th>\n",
       "      <th></th>\n",
       "      <th></th>\n",
       "      <th></th>\n",
       "      <th></th>\n",
       "      <th></th>\n",
       "      <th></th>\n",
       "      <th></th>\n",
       "      <th></th>\n",
       "      <th></th>\n",
       "      <th></th>\n",
       "      <th></th>\n",
       "    </tr>\n",
       "  </thead>\n",
       "  <tbody>\n",
       "    <tr>\n",
       "      <th>0</th>\n",
       "      <td>34291</td>\n",
       "      <td>24</td>\n",
       "      <td>1</td>\n",
       "      <td>0</td>\n",
       "      <td>47</td>\n",
       "      <td>35693</td>\n",
       "      <td>2</td>\n",
       "      <td>1</td>\n",
       "      <td>2000</td>\n",
       "      <td>0</td>\n",
       "      <td>1</td>\n",
       "      <td>8</td>\n",
       "      <td>5196</td>\n",
       "      <td>369</td>\n",
       "      <td>0</td>\n",
       "      <td>3</td>\n",
       "      <td>3436795.2</td>\n",
       "    </tr>\n",
       "    <tr>\n",
       "      <th>1</th>\n",
       "      <td>95145</td>\n",
       "      <td>60</td>\n",
       "      <td>0</td>\n",
       "      <td>1</td>\n",
       "      <td>60</td>\n",
       "      <td>34773</td>\n",
       "      <td>1</td>\n",
       "      <td>4</td>\n",
       "      <td>2000</td>\n",
       "      <td>0</td>\n",
       "      <td>1</td>\n",
       "      <td>729</td>\n",
       "      <td>4496</td>\n",
       "      <td>277</td>\n",
       "      <td>0</td>\n",
       "      <td>6</td>\n",
       "      <td>9519958.0</td>\n",
       "    </tr>\n",
       "    <tr>\n",
       "      <th>2</th>\n",
       "      <td>92661</td>\n",
       "      <td>45</td>\n",
       "      <td>1</td>\n",
       "      <td>1</td>\n",
       "      <td>62</td>\n",
       "      <td>45457</td>\n",
       "      <td>4</td>\n",
       "      <td>8</td>\n",
       "      <td>2020</td>\n",
       "      <td>1</td>\n",
       "      <td>1</td>\n",
       "      <td>7473</td>\n",
       "      <td>8953</td>\n",
       "      <td>245</td>\n",
       "      <td>1</td>\n",
       "      <td>9</td>\n",
       "      <td>9276448.1</td>\n",
       "    </tr>\n",
       "    <tr>\n",
       "      <th>3</th>\n",
       "      <td>97184</td>\n",
       "      <td>99</td>\n",
       "      <td>0</td>\n",
       "      <td>0</td>\n",
       "      <td>59</td>\n",
       "      <td>15113</td>\n",
       "      <td>1</td>\n",
       "      <td>1</td>\n",
       "      <td>2000</td>\n",
       "      <td>0</td>\n",
       "      <td>1</td>\n",
       "      <td>6424</td>\n",
       "      <td>8522</td>\n",
       "      <td>256</td>\n",
       "      <td>1</td>\n",
       "      <td>9</td>\n",
       "      <td>9725732.2</td>\n",
       "    </tr>\n",
       "    <tr>\n",
       "      <th>4</th>\n",
       "      <td>61752</td>\n",
       "      <td>100</td>\n",
       "      <td>0</td>\n",
       "      <td>0</td>\n",
       "      <td>57</td>\n",
       "      <td>64245</td>\n",
       "      <td>8</td>\n",
       "      <td>4</td>\n",
       "      <td>2018</td>\n",
       "      <td>1</td>\n",
       "      <td>0</td>\n",
       "      <td>7151</td>\n",
       "      <td>2786</td>\n",
       "      <td>863</td>\n",
       "      <td>0</td>\n",
       "      <td>7</td>\n",
       "      <td>6181908.8</td>\n",
       "    </tr>\n",
       "    <tr>\n",
       "      <th>...</th>\n",
       "      <td>...</td>\n",
       "      <td>...</td>\n",
       "      <td>...</td>\n",
       "      <td>...</td>\n",
       "      <td>...</td>\n",
       "      <td>...</td>\n",
       "      <td>...</td>\n",
       "      <td>...</td>\n",
       "      <td>...</td>\n",
       "      <td>...</td>\n",
       "      <td>...</td>\n",
       "      <td>...</td>\n",
       "      <td>...</td>\n",
       "      <td>...</td>\n",
       "      <td>...</td>\n",
       "      <td>...</td>\n",
       "      <td>...</td>\n",
       "    </tr>\n",
       "    <tr>\n",
       "      <th>22725</th>\n",
       "      <td>55825</td>\n",
       "      <td>84</td>\n",
       "      <td>1</td>\n",
       "      <td>0</td>\n",
       "      <td>70</td>\n",
       "      <td>12031</td>\n",
       "      <td>3</td>\n",
       "      <td>10</td>\n",
       "      <td>2000</td>\n",
       "      <td>0</td>\n",
       "      <td>0</td>\n",
       "      <td>4477</td>\n",
       "      <td>786</td>\n",
       "      <td>345</td>\n",
       "      <td>0</td>\n",
       "      <td>0</td>\n",
       "      <td>5594137.1</td>\n",
       "    </tr>\n",
       "    <tr>\n",
       "      <th>22726</th>\n",
       "      <td>65870</td>\n",
       "      <td>88</td>\n",
       "      <td>1</td>\n",
       "      <td>0</td>\n",
       "      <td>49</td>\n",
       "      <td>23197</td>\n",
       "      <td>9</td>\n",
       "      <td>9</td>\n",
       "      <td>2015</td>\n",
       "      <td>0</td>\n",
       "      <td>1</td>\n",
       "      <td>4811</td>\n",
       "      <td>2454</td>\n",
       "      <td>755</td>\n",
       "      <td>0</td>\n",
       "      <td>7</td>\n",
       "      <td>6594705.0</td>\n",
       "    </tr>\n",
       "    <tr>\n",
       "      <th>22727</th>\n",
       "      <td>93192</td>\n",
       "      <td>42</td>\n",
       "      <td>1</td>\n",
       "      <td>0</td>\n",
       "      <td>39</td>\n",
       "      <td>8539</td>\n",
       "      <td>10</td>\n",
       "      <td>5</td>\n",
       "      <td>2014</td>\n",
       "      <td>1</td>\n",
       "      <td>0</td>\n",
       "      <td>5595</td>\n",
       "      <td>4072</td>\n",
       "      <td>789</td>\n",
       "      <td>0</td>\n",
       "      <td>0</td>\n",
       "      <td>9321511.4</td>\n",
       "    </tr>\n",
       "    <tr>\n",
       "      <th>22728</th>\n",
       "      <td>65797</td>\n",
       "      <td>86</td>\n",
       "      <td>1</td>\n",
       "      <td>0</td>\n",
       "      <td>89</td>\n",
       "      <td>23197</td>\n",
       "      <td>2</td>\n",
       "      <td>10</td>\n",
       "      <td>2000</td>\n",
       "      <td>1</td>\n",
       "      <td>0</td>\n",
       "      <td>5358</td>\n",
       "      <td>2513</td>\n",
       "      <td>411</td>\n",
       "      <td>0</td>\n",
       "      <td>0</td>\n",
       "      <td>6584708.2</td>\n",
       "    </tr>\n",
       "    <tr>\n",
       "      <th>22729</th>\n",
       "      <td>82244</td>\n",
       "      <td>18</td>\n",
       "      <td>1</td>\n",
       "      <td>0</td>\n",
       "      <td>38</td>\n",
       "      <td>86728</td>\n",
       "      <td>1</td>\n",
       "      <td>9</td>\n",
       "      <td>2018</td>\n",
       "      <td>1</td>\n",
       "      <td>0</td>\n",
       "      <td>6294</td>\n",
       "      <td>1291</td>\n",
       "      <td>572</td>\n",
       "      <td>0</td>\n",
       "      <td>6</td>\n",
       "      <td>8231424.8</td>\n",
       "    </tr>\n",
       "  </tbody>\n",
       "</table>\n",
       "<p>22730 rows × 17 columns</p>\n",
       "</div>"
      ],
      "text/plain": [
       "       squareMeters  numberOfRooms  hasYard  hasPool  floors  cityCode  \\\n",
       "id                                                                       \n",
       "0             34291             24        1        0      47     35693   \n",
       "1             95145             60        0        1      60     34773   \n",
       "2             92661             45        1        1      62     45457   \n",
       "3             97184             99        0        0      59     15113   \n",
       "4             61752            100        0        0      57     64245   \n",
       "...             ...            ...      ...      ...     ...       ...   \n",
       "22725         55825             84        1        0      70     12031   \n",
       "22726         65870             88        1        0      49     23197   \n",
       "22727         93192             42        1        0      39      8539   \n",
       "22728         65797             86        1        0      89     23197   \n",
       "22729         82244             18        1        0      38     86728   \n",
       "\n",
       "       cityPartRange  numPrevOwners  made  isNewBuilt  hasStormProtector  \\\n",
       "id                                                                         \n",
       "0                  2              1  2000           0                  1   \n",
       "1                  1              4  2000           0                  1   \n",
       "2                  4              8  2020           1                  1   \n",
       "3                  1              1  2000           0                  1   \n",
       "4                  8              4  2018           1                  0   \n",
       "...              ...            ...   ...         ...                ...   \n",
       "22725              3             10  2000           0                  0   \n",
       "22726              9              9  2015           0                  1   \n",
       "22727             10              5  2014           1                  0   \n",
       "22728              2             10  2000           1                  0   \n",
       "22729              1              9  2018           1                  0   \n",
       "\n",
       "       basement  attic  garage  hasStorageRoom  hasGuestRoom      price  \n",
       "id                                                                       \n",
       "0             8   5196     369               0             3  3436795.2  \n",
       "1           729   4496     277               0             6  9519958.0  \n",
       "2          7473   8953     245               1             9  9276448.1  \n",
       "3          6424   8522     256               1             9  9725732.2  \n",
       "4          7151   2786     863               0             7  6181908.8  \n",
       "...         ...    ...     ...             ...           ...        ...  \n",
       "22725      4477    786     345               0             0  5594137.1  \n",
       "22726      4811   2454     755               0             7  6594705.0  \n",
       "22727      5595   4072     789               0             0  9321511.4  \n",
       "22728      5358   2513     411               0             0  6584708.2  \n",
       "22729      6294   1291     572               0             6  8231424.8  \n",
       "\n",
       "[22730 rows x 17 columns]"
      ]
     },
     "execution_count": 6,
     "metadata": {},
     "output_type": "execute_result"
    }
   ],
   "source": [
    "train_df"
   ]
  },
  {
   "cell_type": "code",
   "execution_count": 7,
   "id": "6c77bcb5",
   "metadata": {
    "execution": {
     "iopub.execute_input": "2023-02-16T15:33:15.189245Z",
     "iopub.status.busy": "2023-02-16T15:33:15.188905Z",
     "iopub.status.idle": "2023-02-16T15:33:15.195669Z",
     "shell.execute_reply": "2023-02-16T15:33:15.194620Z"
    },
    "papermill": {
     "duration": 0.017668,
     "end_time": "2023-02-16T15:33:15.198917",
     "exception": false,
     "start_time": "2023-02-16T15:33:15.181249",
     "status": "completed"
    },
    "tags": []
   },
   "outputs": [
    {
     "data": {
      "text/plain": [
       "Index(['squareMeters', 'numberOfRooms', 'hasYard', 'hasPool', 'floors',\n",
       "       'cityCode', 'cityPartRange', 'numPrevOwners', 'made', 'isNewBuilt',\n",
       "       'hasStormProtector', 'basement', 'attic', 'garage', 'hasStorageRoom',\n",
       "       'hasGuestRoom', 'price'],\n",
       "      dtype='object')"
      ]
     },
     "execution_count": 7,
     "metadata": {},
     "output_type": "execute_result"
    }
   ],
   "source": [
    "train_df.columns"
   ]
  },
  {
   "cell_type": "code",
   "execution_count": 8,
   "id": "a7367d7c",
   "metadata": {
    "execution": {
     "iopub.execute_input": "2023-02-16T15:33:15.214047Z",
     "iopub.status.busy": "2023-02-16T15:33:15.213765Z",
     "iopub.status.idle": "2023-02-16T15:33:15.226725Z",
     "shell.execute_reply": "2023-02-16T15:33:15.225877Z"
    },
    "papermill": {
     "duration": 0.023081,
     "end_time": "2023-02-16T15:33:15.228998",
     "exception": false,
     "start_time": "2023-02-16T15:33:15.205917",
     "status": "completed"
    },
    "tags": []
   },
   "outputs": [],
   "source": [
    "#identify cont and cat variables \n",
    "cont_names, cat_names = cont_cat_split(train_df)"
   ]
  },
  {
   "cell_type": "code",
   "execution_count": 9,
   "id": "7d2516fe",
   "metadata": {
    "execution": {
     "iopub.execute_input": "2023-02-16T15:33:15.243957Z",
     "iopub.status.busy": "2023-02-16T15:33:15.243692Z",
     "iopub.status.idle": "2023-02-16T15:33:15.249082Z",
     "shell.execute_reply": "2023-02-16T15:33:15.248214Z"
    },
    "papermill": {
     "duration": 0.015057,
     "end_time": "2023-02-16T15:33:15.251019",
     "exception": false,
     "start_time": "2023-02-16T15:33:15.235962",
     "status": "completed"
    },
    "tags": []
   },
   "outputs": [
    {
     "data": {
      "text/plain": [
       "['squareMeters',\n",
       " 'numberOfRooms',\n",
       " 'floors',\n",
       " 'cityCode',\n",
       " 'made',\n",
       " 'basement',\n",
       " 'attic',\n",
       " 'garage',\n",
       " 'price']"
      ]
     },
     "execution_count": 9,
     "metadata": {},
     "output_type": "execute_result"
    }
   ],
   "source": [
    "cont_names"
   ]
  },
  {
   "cell_type": "code",
   "execution_count": 10,
   "id": "a16d9d25",
   "metadata": {
    "execution": {
     "iopub.execute_input": "2023-02-16T15:33:15.266595Z",
     "iopub.status.busy": "2023-02-16T15:33:15.265849Z",
     "iopub.status.idle": "2023-02-16T15:33:15.271965Z",
     "shell.execute_reply": "2023-02-16T15:33:15.270941Z"
    },
    "papermill": {
     "duration": 0.016104,
     "end_time": "2023-02-16T15:33:15.274178",
     "exception": false,
     "start_time": "2023-02-16T15:33:15.258074",
     "status": "completed"
    },
    "tags": []
   },
   "outputs": [
    {
     "data": {
      "text/plain": [
       "['hasYard',\n",
       " 'hasPool',\n",
       " 'cityPartRange',\n",
       " 'numPrevOwners',\n",
       " 'isNewBuilt',\n",
       " 'hasStormProtector',\n",
       " 'hasStorageRoom',\n",
       " 'hasGuestRoom']"
      ]
     },
     "execution_count": 10,
     "metadata": {},
     "output_type": "execute_result"
    }
   ],
   "source": [
    "cat_names"
   ]
  },
  {
   "cell_type": "code",
   "execution_count": 11,
   "id": "42d18a1a",
   "metadata": {
    "execution": {
     "iopub.execute_input": "2023-02-16T15:33:15.290611Z",
     "iopub.status.busy": "2023-02-16T15:33:15.289814Z",
     "iopub.status.idle": "2023-02-16T15:33:15.295468Z",
     "shell.execute_reply": "2023-02-16T15:33:15.294557Z"
    },
    "papermill": {
     "duration": 0.016082,
     "end_time": "2023-02-16T15:33:15.297566",
     "exception": false,
     "start_time": "2023-02-16T15:33:15.281484",
     "status": "completed"
    },
    "tags": []
   },
   "outputs": [],
   "source": [
    "cat_names = ['hasYard','hasPool','cityPartRange','numPrevOwners','isNewBuilt','hasStormProtector','hasStorageRoom','hasGuestRoom'],\n",
    "cont_names = ['squareMeters','numberOfRooms','floors','cityCode','made','basement','attic','garage',],"
   ]
  },
  {
   "cell_type": "code",
   "execution_count": 12,
   "id": "df027824",
   "metadata": {
    "execution": {
     "iopub.execute_input": "2023-02-16T15:33:15.313711Z",
     "iopub.status.busy": "2023-02-16T15:33:15.312749Z",
     "iopub.status.idle": "2023-02-16T15:33:15.320081Z",
     "shell.execute_reply": "2023-02-16T15:33:15.318809Z"
    },
    "papermill": {
     "duration": 0.017522,
     "end_time": "2023-02-16T15:33:15.322217",
     "exception": false,
     "start_time": "2023-02-16T15:33:15.304695",
     "status": "completed"
    },
    "tags": []
   },
   "outputs": [
    {
     "data": {
      "text/plain": [
       "(['squareMeters',\n",
       "  'numberOfRooms',\n",
       "  'floors',\n",
       "  'cityCode',\n",
       "  'made',\n",
       "  'basement',\n",
       "  'attic',\n",
       "  'garage'],)"
      ]
     },
     "execution_count": 12,
     "metadata": {},
     "output_type": "execute_result"
    }
   ],
   "source": [
    "cont_names"
   ]
  },
  {
   "cell_type": "markdown",
   "id": "9e87bfec",
   "metadata": {
    "papermill": {
     "duration": 0.006989,
     "end_time": "2023-02-16T15:33:15.336358",
     "exception": false,
     "start_time": "2023-02-16T15:33:15.329369",
     "status": "completed"
    },
    "tags": []
   },
   "source": [
    "Build dataloaders"
   ]
  },
  {
   "cell_type": "code",
   "execution_count": 13,
   "id": "82da6c0d",
   "metadata": {
    "execution": {
     "iopub.execute_input": "2023-02-16T15:33:15.352826Z",
     "iopub.status.busy": "2023-02-16T15:33:15.351949Z",
     "iopub.status.idle": "2023-02-16T15:33:15.505324Z",
     "shell.execute_reply": "2023-02-16T15:33:15.504359Z"
    },
    "papermill": {
     "duration": 0.164244,
     "end_time": "2023-02-16T15:33:15.507879",
     "exception": false,
     "start_time": "2023-02-16T15:33:15.343635",
     "status": "completed"
    },
    "tags": []
   },
   "outputs": [],
   "source": [
    "dls = TabularDataLoaders.from_csv(path/'train.csv', path=path, y_names=\"price\",\n",
    "    cat_names = ['hasYard','hasPool','cityPartRange','numPrevOwners','isNewBuilt','hasStormProtector','hasStorageRoom','hasGuestRoom'],\n",
    "    cont_names = ['squareMeters','numberOfRooms','floors','cityCode','made','basement','attic','garage',],\n",
    "    procs = [Categorify, FillMissing, Normalize])"
   ]
  },
  {
   "cell_type": "code",
   "execution_count": 14,
   "id": "6f767836",
   "metadata": {
    "execution": {
     "iopub.execute_input": "2023-02-16T15:33:15.524961Z",
     "iopub.status.busy": "2023-02-16T15:33:15.523504Z",
     "iopub.status.idle": "2023-02-16T15:33:15.531881Z",
     "shell.execute_reply": "2023-02-16T15:33:15.530971Z"
    },
    "papermill": {
     "duration": 0.018608,
     "end_time": "2023-02-16T15:33:15.534003",
     "exception": false,
     "start_time": "2023-02-16T15:33:15.515395",
     "status": "completed"
    },
    "tags": []
   },
   "outputs": [],
   "source": [
    "splits = RandomSplitter(valid_pct=0.2)(range_of(train_df))"
   ]
  },
  {
   "cell_type": "code",
   "execution_count": 15,
   "id": "275ede91",
   "metadata": {
    "execution": {
     "iopub.execute_input": "2023-02-16T15:33:15.550374Z",
     "iopub.status.busy": "2023-02-16T15:33:15.548942Z",
     "iopub.status.idle": "2023-02-16T15:33:15.607957Z",
     "shell.execute_reply": "2023-02-16T15:33:15.607012Z"
    },
    "papermill": {
     "duration": 0.069122,
     "end_time": "2023-02-16T15:33:15.610182",
     "exception": false,
     "start_time": "2023-02-16T15:33:15.541060",
     "status": "completed"
    },
    "tags": []
   },
   "outputs": [],
   "source": [
    "to = TabularPandas(train_df, procs=[Categorify, FillMissing,Normalize],\n",
    "                   cat_names = ['hasYard','hasPool','cityPartRange','numPrevOwners','isNewBuilt','hasStormProtector','hasStorageRoom','hasGuestRoom'],\n",
    "                   cont_names = ['squareMeters','numberOfRooms','floors','cityCode','made','basement','attic','garage',],\n",
    "                   y_names='price',\n",
    "                   splits=splits)"
   ]
  },
  {
   "cell_type": "code",
   "execution_count": 16,
   "id": "f8f95d62",
   "metadata": {
    "execution": {
     "iopub.execute_input": "2023-02-16T15:33:15.626646Z",
     "iopub.status.busy": "2023-02-16T15:33:15.626362Z",
     "iopub.status.idle": "2023-02-16T15:33:15.644594Z",
     "shell.execute_reply": "2023-02-16T15:33:15.643464Z"
    },
    "papermill": {
     "duration": 0.029012,
     "end_time": "2023-02-16T15:33:15.647139",
     "exception": false,
     "start_time": "2023-02-16T15:33:15.618127",
     "status": "completed"
    },
    "tags": []
   },
   "outputs": [
    {
     "data": {
      "text/html": [
       "<div>\n",
       "<style scoped>\n",
       "    .dataframe tbody tr th:only-of-type {\n",
       "        vertical-align: middle;\n",
       "    }\n",
       "\n",
       "    .dataframe tbody tr th {\n",
       "        vertical-align: top;\n",
       "    }\n",
       "\n",
       "    .dataframe thead th {\n",
       "        text-align: right;\n",
       "    }\n",
       "</style>\n",
       "<table border=\"1\" class=\"dataframe\">\n",
       "  <thead>\n",
       "    <tr style=\"text-align: right;\">\n",
       "      <th></th>\n",
       "      <th>hasYard</th>\n",
       "      <th>hasPool</th>\n",
       "      <th>cityPartRange</th>\n",
       "      <th>numPrevOwners</th>\n",
       "      <th>isNewBuilt</th>\n",
       "      <th>hasStormProtector</th>\n",
       "      <th>hasStorageRoom</th>\n",
       "      <th>hasGuestRoom</th>\n",
       "      <th>squareMeters</th>\n",
       "      <th>numberOfRooms</th>\n",
       "      <th>floors</th>\n",
       "      <th>cityCode</th>\n",
       "      <th>made</th>\n",
       "      <th>basement</th>\n",
       "      <th>attic</th>\n",
       "      <th>garage</th>\n",
       "    </tr>\n",
       "    <tr>\n",
       "      <th>id</th>\n",
       "      <th></th>\n",
       "      <th></th>\n",
       "      <th></th>\n",
       "      <th></th>\n",
       "      <th></th>\n",
       "      <th></th>\n",
       "      <th></th>\n",
       "      <th></th>\n",
       "      <th></th>\n",
       "      <th></th>\n",
       "      <th></th>\n",
       "      <th></th>\n",
       "      <th></th>\n",
       "      <th></th>\n",
       "      <th></th>\n",
       "      <th></th>\n",
       "    </tr>\n",
       "  </thead>\n",
       "  <tbody>\n",
       "    <tr>\n",
       "      <th>17185</th>\n",
       "      <td>2</td>\n",
       "      <td>1</td>\n",
       "      <td>4</td>\n",
       "      <td>3</td>\n",
       "      <td>1</td>\n",
       "      <td>1</td>\n",
       "      <td>1</td>\n",
       "      <td>3</td>\n",
       "      <td>-0.063355</td>\n",
       "      <td>-1.426090</td>\n",
       "      <td>-0.837724</td>\n",
       "      <td>-0.179296</td>\n",
       "      <td>-0.067461</td>\n",
       "      <td>0.020846</td>\n",
       "      <td>-0.093914</td>\n",
       "      <td>0.942550</td>\n",
       "    </tr>\n",
       "    <tr>\n",
       "      <th>1813</th>\n",
       "      <td>1</td>\n",
       "      <td>1</td>\n",
       "      <td>7</td>\n",
       "      <td>1</td>\n",
       "      <td>2</td>\n",
       "      <td>2</td>\n",
       "      <td>2</td>\n",
       "      <td>7</td>\n",
       "      <td>0.303726</td>\n",
       "      <td>-0.330207</td>\n",
       "      <td>0.284367</td>\n",
       "      <td>-1.615406</td>\n",
       "      <td>0.041944</td>\n",
       "      <td>-0.329060</td>\n",
       "      <td>-1.495083</td>\n",
       "      <td>0.145851</td>\n",
       "    </tr>\n",
       "  </tbody>\n",
       "</table>\n",
       "</div>"
      ],
      "text/plain": [
       "       hasYard  hasPool  cityPartRange  numPrevOwners  isNewBuilt  \\\n",
       "id                                                                  \n",
       "17185        2        1              4              3           1   \n",
       "1813         1        1              7              1           2   \n",
       "\n",
       "       hasStormProtector  hasStorageRoom  hasGuestRoom  squareMeters  \\\n",
       "id                                                                     \n",
       "17185                  1               1             3     -0.063355   \n",
       "1813                   2               2             7      0.303726   \n",
       "\n",
       "       numberOfRooms    floors  cityCode      made  basement     attic  \\\n",
       "id                                                                       \n",
       "17185      -1.426090 -0.837724 -0.179296 -0.067461  0.020846 -0.093914   \n",
       "1813       -0.330207  0.284367 -1.615406  0.041944 -0.329060 -1.495083   \n",
       "\n",
       "         garage  \n",
       "id               \n",
       "17185  0.942550  \n",
       "1813   0.145851  "
      ]
     },
     "execution_count": 16,
     "metadata": {},
     "output_type": "execute_result"
    }
   ],
   "source": [
    "to.xs.iloc[:2]"
   ]
  },
  {
   "cell_type": "code",
   "execution_count": 17,
   "id": "65d0338b",
   "metadata": {
    "execution": {
     "iopub.execute_input": "2023-02-16T15:33:15.663593Z",
     "iopub.status.busy": "2023-02-16T15:33:15.663322Z",
     "iopub.status.idle": "2023-02-16T15:33:15.673787Z",
     "shell.execute_reply": "2023-02-16T15:33:15.672854Z"
    },
    "papermill": {
     "duration": 0.02065,
     "end_time": "2023-02-16T15:33:15.675847",
     "exception": false,
     "start_time": "2023-02-16T15:33:15.655197",
     "status": "completed"
    },
    "tags": []
   },
   "outputs": [],
   "source": [
    "dls = to.dataloaders(bs=64)"
   ]
  },
  {
   "cell_type": "code",
   "execution_count": 18,
   "id": "2c5f8302",
   "metadata": {
    "execution": {
     "iopub.execute_input": "2023-02-16T15:33:15.693375Z",
     "iopub.status.busy": "2023-02-16T15:33:15.692505Z",
     "iopub.status.idle": "2023-02-16T15:33:15.751762Z",
     "shell.execute_reply": "2023-02-16T15:33:15.750774Z"
    },
    "papermill": {
     "duration": 0.071055,
     "end_time": "2023-02-16T15:33:15.754320",
     "exception": false,
     "start_time": "2023-02-16T15:33:15.683265",
     "status": "completed"
    },
    "tags": []
   },
   "outputs": [
    {
     "data": {
      "text/html": [
       "<table border=\"1\" class=\"dataframe\">\n",
       "  <thead>\n",
       "    <tr style=\"text-align: right;\">\n",
       "      <th></th>\n",
       "      <th>hasYard</th>\n",
       "      <th>hasPool</th>\n",
       "      <th>cityPartRange</th>\n",
       "      <th>numPrevOwners</th>\n",
       "      <th>isNewBuilt</th>\n",
       "      <th>hasStormProtector</th>\n",
       "      <th>hasStorageRoom</th>\n",
       "      <th>hasGuestRoom</th>\n",
       "      <th>squareMeters</th>\n",
       "      <th>numberOfRooms</th>\n",
       "      <th>floors</th>\n",
       "      <th>cityCode</th>\n",
       "      <th>made</th>\n",
       "      <th>basement</th>\n",
       "      <th>attic</th>\n",
       "      <th>garage</th>\n",
       "      <th>price</th>\n",
       "    </tr>\n",
       "  </thead>\n",
       "  <tbody>\n",
       "    <tr>\n",
       "      <th>0</th>\n",
       "      <td>0</td>\n",
       "      <td>1</td>\n",
       "      <td>2</td>\n",
       "      <td>3</td>\n",
       "      <td>0</td>\n",
       "      <td>1</td>\n",
       "      <td>0</td>\n",
       "      <td>10</td>\n",
       "      <td>94351.001430</td>\n",
       "      <td>35.000000</td>\n",
       "      <td>37.000000</td>\n",
       "      <td>76197.000482</td>\n",
       "      <td>2018.000000</td>\n",
       "      <td>8383.999954</td>\n",
       "      <td>802.999928</td>\n",
       "      <td>135.000015</td>\n",
       "      <td>9.442917e+06</td>\n",
       "    </tr>\n",
       "    <tr>\n",
       "      <th>1</th>\n",
       "      <td>1</td>\n",
       "      <td>0</td>\n",
       "      <td>8</td>\n",
       "      <td>3</td>\n",
       "      <td>1</td>\n",
       "      <td>1</td>\n",
       "      <td>1</td>\n",
       "      <td>6</td>\n",
       "      <td>82141.000388</td>\n",
       "      <td>57.000000</td>\n",
       "      <td>80.999999</td>\n",
       "      <td>42669.999955</td>\n",
       "      <td>2019.000000</td>\n",
       "      <td>7173.000006</td>\n",
       "      <td>6896.000018</td>\n",
       "      <td>612.999997</td>\n",
       "      <td>8.225971e+06</td>\n",
       "    </tr>\n",
       "    <tr>\n",
       "      <th>2</th>\n",
       "      <td>1</td>\n",
       "      <td>0</td>\n",
       "      <td>10</td>\n",
       "      <td>3</td>\n",
       "      <td>0</td>\n",
       "      <td>1</td>\n",
       "      <td>1</td>\n",
       "      <td>7</td>\n",
       "      <td>692.001032</td>\n",
       "      <td>18.000000</td>\n",
       "      <td>13.999999</td>\n",
       "      <td>73129.000535</td>\n",
       "      <td>2014.000000</td>\n",
       "      <td>4975.999995</td>\n",
       "      <td>995.000145</td>\n",
       "      <td>613.999999</td>\n",
       "      <td>7.892440e+04</td>\n",
       "    </tr>\n",
       "    <tr>\n",
       "      <th>3</th>\n",
       "      <td>1</td>\n",
       "      <td>1</td>\n",
       "      <td>1</td>\n",
       "      <td>9</td>\n",
       "      <td>0</td>\n",
       "      <td>1</td>\n",
       "      <td>1</td>\n",
       "      <td>8</td>\n",
       "      <td>14932.999468</td>\n",
       "      <td>78.000001</td>\n",
       "      <td>50.000000</td>\n",
       "      <td>45035.999907</td>\n",
       "      <td>2020.000000</td>\n",
       "      <td>7266.000003</td>\n",
       "      <td>775.000069</td>\n",
       "      <td>348.999996</td>\n",
       "      <td>1.500885e+06</td>\n",
       "    </tr>\n",
       "    <tr>\n",
       "      <th>4</th>\n",
       "      <td>0</td>\n",
       "      <td>0</td>\n",
       "      <td>2</td>\n",
       "      <td>3</td>\n",
       "      <td>0</td>\n",
       "      <td>1</td>\n",
       "      <td>1</td>\n",
       "      <td>7</td>\n",
       "      <td>69080.000247</td>\n",
       "      <td>35.000000</td>\n",
       "      <td>34.000000</td>\n",
       "      <td>84276.998571</td>\n",
       "      <td>2004.000000</td>\n",
       "      <td>4198.999995</td>\n",
       "      <td>3509.000005</td>\n",
       "      <td>303.000002</td>\n",
       "      <td>6.911182e+06</td>\n",
       "    </tr>\n",
       "    <tr>\n",
       "      <th>5</th>\n",
       "      <td>0</td>\n",
       "      <td>1</td>\n",
       "      <td>9</td>\n",
       "      <td>10</td>\n",
       "      <td>1</td>\n",
       "      <td>0</td>\n",
       "      <td>1</td>\n",
       "      <td>4</td>\n",
       "      <td>15821.998450</td>\n",
       "      <td>47.000000</td>\n",
       "      <td>38.000000</td>\n",
       "      <td>51544.000048</td>\n",
       "      <td>1995.000000</td>\n",
       "      <td>8175.999929</td>\n",
       "      <td>7528.000012</td>\n",
       "      <td>811.999999</td>\n",
       "      <td>1.584936e+06</td>\n",
       "    </tr>\n",
       "    <tr>\n",
       "      <th>6</th>\n",
       "      <td>1</td>\n",
       "      <td>0</td>\n",
       "      <td>7</td>\n",
       "      <td>8</td>\n",
       "      <td>0</td>\n",
       "      <td>0</td>\n",
       "      <td>0</td>\n",
       "      <td>2</td>\n",
       "      <td>31989.999458</td>\n",
       "      <td>88.000002</td>\n",
       "      <td>100.000003</td>\n",
       "      <td>64375.999901</td>\n",
       "      <td>2018.000000</td>\n",
       "      <td>1985.000033</td>\n",
       "      <td>4926.000002</td>\n",
       "      <td>990.000010</td>\n",
       "      <td>3.204948e+06</td>\n",
       "    </tr>\n",
       "    <tr>\n",
       "      <th>7</th>\n",
       "      <td>1</td>\n",
       "      <td>1</td>\n",
       "      <td>7</td>\n",
       "      <td>1</td>\n",
       "      <td>1</td>\n",
       "      <td>1</td>\n",
       "      <td>1</td>\n",
       "      <td>4</td>\n",
       "      <td>34060.000082</td>\n",
       "      <td>47.000000</td>\n",
       "      <td>68.000001</td>\n",
       "      <td>85057.999322</td>\n",
       "      <td>1998.000000</td>\n",
       "      <td>1400.000147</td>\n",
       "      <td>4395.999994</td>\n",
       "      <td>125.000008</td>\n",
       "      <td>3.414056e+06</td>\n",
       "    </tr>\n",
       "    <tr>\n",
       "      <th>8</th>\n",
       "      <td>1</td>\n",
       "      <td>0</td>\n",
       "      <td>5</td>\n",
       "      <td>10</td>\n",
       "      <td>0</td>\n",
       "      <td>1</td>\n",
       "      <td>1</td>\n",
       "      <td>0</td>\n",
       "      <td>58855.000175</td>\n",
       "      <td>8.000000</td>\n",
       "      <td>34.000000</td>\n",
       "      <td>18782.000040</td>\n",
       "      <td>2004.000000</td>\n",
       "      <td>3573.000026</td>\n",
       "      <td>3754.999978</td>\n",
       "      <td>957.000006</td>\n",
       "      <td>5.892518e+06</td>\n",
       "    </tr>\n",
       "    <tr>\n",
       "      <th>9</th>\n",
       "      <td>0</td>\n",
       "      <td>0</td>\n",
       "      <td>5</td>\n",
       "      <td>9</td>\n",
       "      <td>0</td>\n",
       "      <td>0</td>\n",
       "      <td>0</td>\n",
       "      <td>9</td>\n",
       "      <td>45140.000010</td>\n",
       "      <td>37.000000</td>\n",
       "      <td>75.000000</td>\n",
       "      <td>84708.001300</td>\n",
       "      <td>1992.999999</td>\n",
       "      <td>7412.999993</td>\n",
       "      <td>5658.000020</td>\n",
       "      <td>345.000003</td>\n",
       "      <td>4.520882e+06</td>\n",
       "    </tr>\n",
       "  </tbody>\n",
       "</table>"
      ],
      "text/plain": [
       "<IPython.core.display.HTML object>"
      ]
     },
     "metadata": {},
     "output_type": "display_data"
    }
   ],
   "source": [
    "dls.show_batch()"
   ]
  },
  {
   "cell_type": "markdown",
   "id": "e7ea2b16",
   "metadata": {
    "papermill": {
     "duration": 0.007302,
     "end_time": "2023-02-16T15:33:15.769543",
     "exception": false,
     "start_time": "2023-02-16T15:33:15.762241",
     "status": "completed"
    },
    "tags": []
   },
   "source": [
    "Tabular learner"
   ]
  },
  {
   "cell_type": "code",
   "execution_count": 19,
   "id": "95fc44ae",
   "metadata": {
    "execution": {
     "iopub.execute_input": "2023-02-16T15:33:15.786325Z",
     "iopub.status.busy": "2023-02-16T15:33:15.786028Z",
     "iopub.status.idle": "2023-02-16T15:33:22.323023Z",
     "shell.execute_reply": "2023-02-16T15:33:22.322007Z"
    },
    "papermill": {
     "duration": 6.547724,
     "end_time": "2023-02-16T15:33:22.325256",
     "exception": false,
     "start_time": "2023-02-16T15:33:15.777532",
     "status": "completed"
    },
    "tags": []
   },
   "outputs": [
    {
     "data": {
      "text/html": [
       "\n",
       "<style>\n",
       "    /* Turns off some styling */\n",
       "    progress {\n",
       "        /* gets rid of default border in Firefox and Opera. */\n",
       "        border: none;\n",
       "        /* Needs to be in here for Safari polyfill so background images work as expected. */\n",
       "        background-size: auto;\n",
       "    }\n",
       "    progress:not([value]), progress:not([value])::-webkit-progress-bar {\n",
       "        background: repeating-linear-gradient(45deg, #7e7e7e, #7e7e7e 10px, #5c5c5c 10px, #5c5c5c 20px);\n",
       "    }\n",
       "    .progress-bar-interrupted, .progress-bar-interrupted::-webkit-progress-bar {\n",
       "        background: #F44336;\n",
       "    }\n",
       "</style>\n"
      ],
      "text/plain": [
       "<IPython.core.display.HTML object>"
      ]
     },
     "metadata": {},
     "output_type": "display_data"
    },
    {
     "data": {
      "text/html": [],
      "text/plain": [
       "<IPython.core.display.HTML object>"
      ]
     },
     "metadata": {},
     "output_type": "display_data"
    },
    {
     "data": {
      "text/plain": [
       "SuggestedLRs(valley=0.3019951581954956)"
      ]
     },
     "execution_count": 19,
     "metadata": {},
     "output_type": "execute_result"
    },
    {
     "data": {
      "image/png": "[encoded data removed]",
      "text/plain": [
       "<Figure size 640x480 with 1 Axes>"
      ]
     },
     "metadata": {},
     "output_type": "display_data"
    }
   ],
   "source": [
    "learn = tabular_learner(dls, metrics=rmse)\n",
    "learn.lr_find()"
   ]
  },
  {
   "cell_type": "code",
   "execution_count": 20,
   "id": "d26ecb99",
   "metadata": {
    "execution": {
     "iopub.execute_input": "2023-02-16T15:33:22.344336Z",
     "iopub.status.busy": "2023-02-16T15:33:22.344010Z",
     "iopub.status.idle": "2023-02-16T15:33:54.356292Z",
     "shell.execute_reply": "2023-02-16T15:33:54.355156Z"
    },
    "papermill": {
     "duration": 32.024268,
     "end_time": "2023-02-16T15:33:54.358864",
     "exception": false,
     "start_time": "2023-02-16T15:33:22.334596",
     "status": "completed"
    },
    "tags": []
   },
   "outputs": [
    {
     "data": {
      "text/html": [
       "\n",
       "<style>\n",
       "    /* Turns off some styling */\n",
       "    progress {\n",
       "        /* gets rid of default border in Firefox and Opera. */\n",
       "        border: none;\n",
       "        /* Needs to be in here for Safari polyfill so background images work as expected. */\n",
       "        background-size: auto;\n",
       "    }\n",
       "    progress:not([value]), progress:not([value])::-webkit-progress-bar {\n",
       "        background: repeating-linear-gradient(45deg, #7e7e7e, #7e7e7e 10px, #5c5c5c 10px, #5c5c5c 20px);\n",
       "    }\n",
       "    .progress-bar-interrupted, .progress-bar-interrupted::-webkit-progress-bar {\n",
       "        background: #F44336;\n",
       "    }\n",
       "</style>\n"
      ],
      "text/plain": [
       "<IPython.core.display.HTML object>"
      ]
     },
     "metadata": {},
     "output_type": "display_data"
    },
    {
     "data": {
      "text/html": [
       "<table border=\"1\" class=\"dataframe\">\n",
       "  <thead>\n",
       "    <tr style=\"text-align: left;\">\n",
       "      <th>epoch</th>\n",
       "      <th>train_loss</th>\n",
       "      <th>valid_loss</th>\n",
       "      <th>_rmse</th>\n",
       "      <th>time</th>\n",
       "    </tr>\n",
       "  </thead>\n",
       "  <tbody>\n",
       "    <tr>\n",
       "      <td>0</td>\n",
       "      <td>30936576032768.000000</td>\n",
       "      <td>29725592387584.000000</td>\n",
       "      <td>5452118.000000</td>\n",
       "      <td>00:03</td>\n",
       "    </tr>\n",
       "    <tr>\n",
       "      <td>1</td>\n",
       "      <td>30367746621440.000000</td>\n",
       "      <td>29710453047296.000000</td>\n",
       "      <td>5450729.000000</td>\n",
       "      <td>00:03</td>\n",
       "    </tr>\n",
       "    <tr>\n",
       "      <td>2</td>\n",
       "      <td>29982682251264.000000</td>\n",
       "      <td>29660278685696.000000</td>\n",
       "      <td>5446124.500000</td>\n",
       "      <td>00:03</td>\n",
       "    </tr>\n",
       "    <tr>\n",
       "      <td>3</td>\n",
       "      <td>29979836416000.000000</td>\n",
       "      <td>29594319060992.000000</td>\n",
       "      <td>5440065.500000</td>\n",
       "      <td>00:03</td>\n",
       "    </tr>\n",
       "    <tr>\n",
       "      <td>4</td>\n",
       "      <td>29626611007488.000000</td>\n",
       "      <td>29511116652544.000000</td>\n",
       "      <td>5432413.000000</td>\n",
       "      <td>00:03</td>\n",
       "    </tr>\n",
       "    <tr>\n",
       "      <td>5</td>\n",
       "      <td>30095077015552.000000</td>\n",
       "      <td>29482326949888.000000</td>\n",
       "      <td>5429763.500000</td>\n",
       "      <td>00:03</td>\n",
       "    </tr>\n",
       "    <tr>\n",
       "      <td>6</td>\n",
       "      <td>30174389207040.000000</td>\n",
       "      <td>29399523000320.000000</td>\n",
       "      <td>5422132.500000</td>\n",
       "      <td>00:03</td>\n",
       "    </tr>\n",
       "    <tr>\n",
       "      <td>7</td>\n",
       "      <td>29457207263232.000000</td>\n",
       "      <td>29356743196672.000000</td>\n",
       "      <td>5418186.000000</td>\n",
       "      <td>00:03</td>\n",
       "    </tr>\n",
       "    <tr>\n",
       "      <td>8</td>\n",
       "      <td>29759400574976.000000</td>\n",
       "      <td>29348008558592.000000</td>\n",
       "      <td>5417380.000000</td>\n",
       "      <td>00:03</td>\n",
       "    </tr>\n",
       "    <tr>\n",
       "      <td>9</td>\n",
       "      <td>29723079999488.000000</td>\n",
       "      <td>29361317085184.000000</td>\n",
       "      <td>5418608.000000</td>\n",
       "      <td>00:03</td>\n",
       "    </tr>\n",
       "  </tbody>\n",
       "</table>"
      ],
      "text/plain": [
       "<IPython.core.display.HTML object>"
      ]
     },
     "metadata": {},
     "output_type": "display_data"
    }
   ],
   "source": [
    "learn.fit_one_cycle(10,1e-2)"
   ]
  },
  {
   "cell_type": "code",
   "execution_count": 21,
   "id": "814d5427",
   "metadata": {
    "execution": {
     "iopub.execute_input": "2023-02-16T15:33:54.380573Z",
     "iopub.status.busy": "2023-02-16T15:33:54.379908Z",
     "iopub.status.idle": "2023-02-16T15:33:54.432713Z",
     "shell.execute_reply": "2023-02-16T15:33:54.431426Z"
    },
    "papermill": {
     "duration": 0.065968,
     "end_time": "2023-02-16T15:33:54.435553",
     "exception": false,
     "start_time": "2023-02-16T15:33:54.369585",
     "status": "completed"
    },
    "tags": []
   },
   "outputs": [
    {
     "data": {
      "text/html": [
       "\n",
       "<style>\n",
       "    /* Turns off some styling */\n",
       "    progress {\n",
       "        /* gets rid of default border in Firefox and Opera. */\n",
       "        border: none;\n",
       "        /* Needs to be in here for Safari polyfill so background images work as expected. */\n",
       "        background-size: auto;\n",
       "    }\n",
       "    progress:not([value]), progress:not([value])::-webkit-progress-bar {\n",
       "        background: repeating-linear-gradient(45deg, #7e7e7e, #7e7e7e 10px, #5c5c5c 10px, #5c5c5c 20px);\n",
       "    }\n",
       "    .progress-bar-interrupted, .progress-bar-interrupted::-webkit-progress-bar {\n",
       "        background: #F44336;\n",
       "    }\n",
       "</style>\n"
      ],
      "text/plain": [
       "<IPython.core.display.HTML object>"
      ]
     },
     "metadata": {},
     "output_type": "display_data"
    },
    {
     "data": {
      "text/html": [],
      "text/plain": [
       "<IPython.core.display.HTML object>"
      ]
     },
     "metadata": {},
     "output_type": "display_data"
    },
    {
     "data": {
      "text/html": [
       "<table border=\"1\" class=\"dataframe\">\n",
       "  <thead>\n",
       "    <tr style=\"text-align: right;\">\n",
       "      <th></th>\n",
       "      <th>hasYard</th>\n",
       "      <th>hasPool</th>\n",
       "      <th>cityPartRange</th>\n",
       "      <th>numPrevOwners</th>\n",
       "      <th>isNewBuilt</th>\n",
       "      <th>hasStormProtector</th>\n",
       "      <th>hasStorageRoom</th>\n",
       "      <th>hasGuestRoom</th>\n",
       "      <th>squareMeters</th>\n",
       "      <th>numberOfRooms</th>\n",
       "      <th>floors</th>\n",
       "      <th>cityCode</th>\n",
       "      <th>made</th>\n",
       "      <th>basement</th>\n",
       "      <th>attic</th>\n",
       "      <th>garage</th>\n",
       "      <th>price</th>\n",
       "      <th>price_pred</th>\n",
       "    </tr>\n",
       "  </thead>\n",
       "  <tbody>\n",
       "    <tr>\n",
       "      <th>0</th>\n",
       "      <td>1.0</td>\n",
       "      <td>2.0</td>\n",
       "      <td>3.0</td>\n",
       "      <td>9.0</td>\n",
       "      <td>1.0</td>\n",
       "      <td>1.0</td>\n",
       "      <td>1.0</td>\n",
       "      <td>8.0</td>\n",
       "      <td>0.718994</td>\n",
       "      <td>1.295942</td>\n",
       "      <td>0.032864</td>\n",
       "      <td>1.344776</td>\n",
       "      <td>0.067191</td>\n",
       "      <td>-1.141952</td>\n",
       "      <td>0.811995</td>\n",
       "      <td>1.340900</td>\n",
       "      <td>8519160.000</td>\n",
       "      <td>55057.492188</td>\n",
       "    </tr>\n",
       "    <tr>\n",
       "      <th>1</th>\n",
       "      <td>2.0</td>\n",
       "      <td>1.0</td>\n",
       "      <td>9.0</td>\n",
       "      <td>6.0</td>\n",
       "      <td>2.0</td>\n",
       "      <td>1.0</td>\n",
       "      <td>2.0</td>\n",
       "      <td>7.0</td>\n",
       "      <td>-0.786730</td>\n",
       "      <td>1.543400</td>\n",
       "      <td>0.148942</td>\n",
       "      <td>1.523326</td>\n",
       "      <td>0.100854</td>\n",
       "      <td>-0.590762</td>\n",
       "      <td>1.144395</td>\n",
       "      <td>0.428317</td>\n",
       "      <td>474915.000</td>\n",
       "      <td>-5359.415039</td>\n",
       "    </tr>\n",
       "    <tr>\n",
       "      <th>2</th>\n",
       "      <td>1.0</td>\n",
       "      <td>1.0</td>\n",
       "      <td>2.0</td>\n",
       "      <td>9.0</td>\n",
       "      <td>1.0</td>\n",
       "      <td>1.0</td>\n",
       "      <td>2.0</td>\n",
       "      <td>2.0</td>\n",
       "      <td>-0.416241</td>\n",
       "      <td>1.048485</td>\n",
       "      <td>0.419791</td>\n",
       "      <td>0.206682</td>\n",
       "      <td>-0.025382</td>\n",
       "      <td>0.379475</td>\n",
       "      <td>0.345045</td>\n",
       "      <td>0.826667</td>\n",
       "      <td>2458884.500</td>\n",
       "      <td>9874.645508</td>\n",
       "    </tr>\n",
       "    <tr>\n",
       "      <th>3</th>\n",
       "      <td>2.0</td>\n",
       "      <td>1.0</td>\n",
       "      <td>5.0</td>\n",
       "      <td>2.0</td>\n",
       "      <td>2.0</td>\n",
       "      <td>1.0</td>\n",
       "      <td>2.0</td>\n",
       "      <td>10.0</td>\n",
       "      <td>0.455439</td>\n",
       "      <td>-0.012047</td>\n",
       "      <td>0.613255</td>\n",
       "      <td>1.523326</td>\n",
       "      <td>0.084023</td>\n",
       "      <td>0.463478</td>\n",
       "      <td>-1.450551</td>\n",
       "      <td>-0.256120</td>\n",
       "      <td>7118345.000</td>\n",
       "      <td>44856.710938</td>\n",
       "    </tr>\n",
       "    <tr>\n",
       "      <th>4</th>\n",
       "      <td>1.0</td>\n",
       "      <td>2.0</td>\n",
       "      <td>8.0</td>\n",
       "      <td>1.0</td>\n",
       "      <td>1.0</td>\n",
       "      <td>2.0</td>\n",
       "      <td>1.0</td>\n",
       "      <td>5.0</td>\n",
       "      <td>0.073376</td>\n",
       "      <td>-0.259505</td>\n",
       "      <td>-0.721646</td>\n",
       "      <td>1.001301</td>\n",
       "      <td>0.067191</td>\n",
       "      <td>1.079609</td>\n",
       "      <td>1.312027</td>\n",
       "      <td>-1.389606</td>\n",
       "      <td>5074190.500</td>\n",
       "      <td>29652.847656</td>\n",
       "    </tr>\n",
       "    <tr>\n",
       "      <th>5</th>\n",
       "      <td>1.0</td>\n",
       "      <td>2.0</td>\n",
       "      <td>8.0</td>\n",
       "      <td>7.0</td>\n",
       "      <td>2.0</td>\n",
       "      <td>2.0</td>\n",
       "      <td>1.0</td>\n",
       "      <td>3.0</td>\n",
       "      <td>0.619512</td>\n",
       "      <td>0.306112</td>\n",
       "      <td>0.342406</td>\n",
       "      <td>-1.440843</td>\n",
       "      <td>-0.042213</td>\n",
       "      <td>0.113572</td>\n",
       "      <td>0.722613</td>\n",
       "      <td>0.388482</td>\n",
       "      <td>7987847.500</td>\n",
       "      <td>51090.984375</td>\n",
       "    </tr>\n",
       "    <tr>\n",
       "      <th>6</th>\n",
       "      <td>1.0</td>\n",
       "      <td>1.0</td>\n",
       "      <td>1.0</td>\n",
       "      <td>4.0</td>\n",
       "      <td>2.0</td>\n",
       "      <td>2.0</td>\n",
       "      <td>2.0</td>\n",
       "      <td>3.0</td>\n",
       "      <td>0.413789</td>\n",
       "      <td>0.306112</td>\n",
       "      <td>-0.141254</td>\n",
       "      <td>0.245097</td>\n",
       "      <td>-0.042213</td>\n",
       "      <td>-1.664388</td>\n",
       "      <td>0.517130</td>\n",
       "      <td>-1.494626</td>\n",
       "      <td>6887892.500</td>\n",
       "      <td>42969.265625</td>\n",
       "    </tr>\n",
       "    <tr>\n",
       "      <th>7</th>\n",
       "      <td>1.0</td>\n",
       "      <td>1.0</td>\n",
       "      <td>4.0</td>\n",
       "      <td>9.0</td>\n",
       "      <td>2.0</td>\n",
       "      <td>1.0</td>\n",
       "      <td>2.0</td>\n",
       "      <td>7.0</td>\n",
       "      <td>-0.647621</td>\n",
       "      <td>-1.390739</td>\n",
       "      <td>-0.605567</td>\n",
       "      <td>0.043484</td>\n",
       "      <td>-0.025382</td>\n",
       "      <td>-0.264442</td>\n",
       "      <td>1.244911</td>\n",
       "      <td>-0.111266</td>\n",
       "      <td>1218405.500</td>\n",
       "      <td>210.956482</td>\n",
       "    </tr>\n",
       "    <tr>\n",
       "      <th>8</th>\n",
       "      <td>2.0</td>\n",
       "      <td>1.0</td>\n",
       "      <td>7.0</td>\n",
       "      <td>6.0</td>\n",
       "      <td>1.0</td>\n",
       "      <td>2.0</td>\n",
       "      <td>1.0</td>\n",
       "      <td>4.0</td>\n",
       "      <td>-0.696725</td>\n",
       "      <td>-0.365558</td>\n",
       "      <td>-0.237986</td>\n",
       "      <td>-0.788652</td>\n",
       "      <td>0.050360</td>\n",
       "      <td>1.409483</td>\n",
       "      <td>-0.478480</td>\n",
       "      <td>1.043948</td>\n",
       "      <td>955981.375</td>\n",
       "      <td>-1804.259155</td>\n",
       "    </tr>\n",
       "  </tbody>\n",
       "</table>"
      ],
      "text/plain": [
       "<IPython.core.display.HTML object>"
      ]
     },
     "metadata": {},
     "output_type": "display_data"
    }
   ],
   "source": [
    "learn.show_results()"
   ]
  },
  {
   "cell_type": "markdown",
   "id": "3d66a9a5",
   "metadata": {
    "papermill": {
     "duration": 0.009699,
     "end_time": "2023-02-16T15:33:54.456033",
     "exception": false,
     "start_time": "2023-02-16T15:33:54.446334",
     "status": "completed"
    },
    "tags": []
   },
   "source": [
    "Predictions on validation set"
   ]
  },
  {
   "cell_type": "code",
   "execution_count": 22,
   "id": "ea24b3af",
   "metadata": {
    "execution": {
     "iopub.execute_input": "2023-02-16T15:33:54.476018Z",
     "iopub.status.busy": "2023-02-16T15:33:54.475311Z",
     "iopub.status.idle": "2023-02-16T15:33:54.500608Z",
     "shell.execute_reply": "2023-02-16T15:33:54.499650Z"
    },
    "papermill": {
     "duration": 0.038146,
     "end_time": "2023-02-16T15:33:54.503216",
     "exception": false,
     "start_time": "2023-02-16T15:33:54.465070",
     "status": "completed"
    },
    "tags": []
   },
   "outputs": [],
   "source": [
    "dl = learn.dls.test_dl(test_df)"
   ]
  },
  {
   "cell_type": "code",
   "execution_count": 23,
   "id": "f8ba6a88",
   "metadata": {
    "execution": {
     "iopub.execute_input": "2023-02-16T15:33:54.524983Z",
     "iopub.status.busy": "2023-02-16T15:33:54.524140Z",
     "iopub.status.idle": "2023-02-16T15:33:55.402948Z",
     "shell.execute_reply": "2023-02-16T15:33:55.401666Z"
    },
    "papermill": {
     "duration": 0.89164,
     "end_time": "2023-02-16T15:33:55.405410",
     "exception": false,
     "start_time": "2023-02-16T15:33:54.513770",
     "status": "completed"
    },
    "tags": []
   },
   "outputs": [
    {
     "data": {
      "text/html": [
       "\n",
       "<style>\n",
       "    /* Turns off some styling */\n",
       "    progress {\n",
       "        /* gets rid of default border in Firefox and Opera. */\n",
       "        border: none;\n",
       "        /* Needs to be in here for Safari polyfill so background images work as expected. */\n",
       "        background-size: auto;\n",
       "    }\n",
       "    progress:not([value]), progress:not([value])::-webkit-progress-bar {\n",
       "        background: repeating-linear-gradient(45deg, #7e7e7e, #7e7e7e 10px, #5c5c5c 10px, #5c5c5c 20px);\n",
       "    }\n",
       "    .progress-bar-interrupted, .progress-bar-interrupted::-webkit-progress-bar {\n",
       "        background: #F44336;\n",
       "    }\n",
       "</style>\n"
      ],
      "text/plain": [
       "<IPython.core.display.HTML object>"
      ]
     },
     "metadata": {},
     "output_type": "display_data"
    },
    {
     "data": {
      "text/html": [],
      "text/plain": [
       "<IPython.core.display.HTML object>"
      ]
     },
     "metadata": {},
     "output_type": "display_data"
    },
    {
     "data": {
      "text/plain": [
       "(tensor([[27463.6230],\n",
       "         [38158.9844],\n",
       "         [59202.8867],\n",
       "         ...,\n",
       "         [46615.2031],\n",
       "         [49580.8477],\n",
       "         [ 4771.3491]]),\n",
       " None)"
      ]
     },
     "execution_count": 23,
     "metadata": {},
     "output_type": "execute_result"
    }
   ],
   "source": [
    "preds = learn.get_preds(dl=dl)\n",
    "preds"
   ]
  },
  {
   "cell_type": "markdown",
   "id": "c04b35b5",
   "metadata": {
    "papermill": {
     "duration": 0.009327,
     "end_time": "2023-02-16T15:33:55.424819",
     "exception": false,
     "start_time": "2023-02-16T15:33:55.415492",
     "status": "completed"
    },
    "tags": []
   },
   "source": [
    "Submit to kaggle|"
   ]
  },
  {
   "cell_type": "code",
   "execution_count": 24,
   "id": "0cb463df",
   "metadata": {
    "execution": {
     "iopub.execute_input": "2023-02-16T15:33:55.446776Z",
     "iopub.status.busy": "2023-02-16T15:33:55.445119Z",
     "iopub.status.idle": "2023-02-16T15:33:55.450317Z",
     "shell.execute_reply": "2023-02-16T15:33:55.449398Z"
    },
    "papermill": {
     "duration": 0.01809,
     "end_time": "2023-02-16T15:33:55.452504",
     "exception": false,
     "start_time": "2023-02-16T15:33:55.434414",
     "status": "completed"
    },
    "tags": []
   },
   "outputs": [],
   "source": [
    "target_preds = preds[0]"
   ]
  },
  {
   "cell_type": "code",
   "execution_count": 25,
   "id": "08048352",
   "metadata": {
    "execution": {
     "iopub.execute_input": "2023-02-16T15:33:55.473817Z",
     "iopub.status.busy": "2023-02-16T15:33:55.472889Z",
     "iopub.status.idle": "2023-02-16T15:33:55.520503Z",
     "shell.execute_reply": "2023-02-16T15:33:55.519293Z"
    },
    "papermill": {
     "duration": 0.060661,
     "end_time": "2023-02-16T15:33:55.523242",
     "exception": false,
     "start_time": "2023-02-16T15:33:55.462581",
     "status": "completed"
    },
    "tags": []
   },
   "outputs": [
    {
     "data": {
      "text/html": [
       "<div>\n",
       "<style scoped>\n",
       "    .dataframe tbody tr th:only-of-type {\n",
       "        vertical-align: middle;\n",
       "    }\n",
       "\n",
       "    .dataframe tbody tr th {\n",
       "        vertical-align: top;\n",
       "    }\n",
       "\n",
       "    .dataframe thead th {\n",
       "        text-align: right;\n",
       "    }\n",
       "</style>\n",
       "<table border=\"1\" class=\"dataframe\">\n",
       "  <thead>\n",
       "    <tr style=\"text-align: right;\">\n",
       "      <th></th>\n",
       "      <th>id</th>\n",
       "      <th>price</th>\n",
       "    </tr>\n",
       "  </thead>\n",
       "  <tbody>\n",
       "    <tr>\n",
       "      <th>0</th>\n",
       "      <td>22730</td>\n",
       "      <td>27463.6230</td>\n",
       "    </tr>\n",
       "    <tr>\n",
       "      <th>1</th>\n",
       "      <td>22731</td>\n",
       "      <td>38158.9840</td>\n",
       "    </tr>\n",
       "    <tr>\n",
       "      <th>2</th>\n",
       "      <td>22732</td>\n",
       "      <td>59202.8870</td>\n",
       "    </tr>\n",
       "    <tr>\n",
       "      <th>3</th>\n",
       "      <td>22733</td>\n",
       "      <td>3377.3418</td>\n",
       "    </tr>\n",
       "    <tr>\n",
       "      <th>4</th>\n",
       "      <td>22734</td>\n",
       "      <td>41822.6370</td>\n",
       "    </tr>\n",
       "  </tbody>\n",
       "</table>\n",
       "</div>"
      ],
      "text/plain": [
       "      id       price\n",
       "0  22730  27463.6230\n",
       "1  22731  38158.9840\n",
       "2  22732  59202.8870\n",
       "3  22733   3377.3418\n",
       "4  22734  41822.6370"
      ]
     },
     "execution_count": 25,
     "metadata": {},
     "output_type": "execute_result"
    }
   ],
   "source": [
    "test_df['price'] = target_preds\n",
    "\n",
    "test_df.to_csv('submission.csv', columns=['price'], index=True)\n",
    "\n",
    "submission = pd.read_csv('submission.csv')\n",
    "submission.head()"
   ]
  },
  {
   "cell_type": "code",
   "execution_count": null,
   "id": "b79e1073",
   "metadata": {
    "papermill": {
     "duration": 0.010881,
     "end_time": "2023-02-16T15:33:55.544763",
     "exception": false,
     "start_time": "2023-02-16T15:33:55.533882",
     "status": "completed"
    },
    "tags": []
   },
   "outputs": [],
   "source": []
  }
 ],
 "metadata": {
  "kernelspec": {
   "display_name": "Python 3",
   "language": "python",
   "name": "python3"
  },
  "language_info": {
   "codemirror_mode": {
    "name": "ipython",
    "version": 3
   },
   "file_extension": ".py",
   "mimetype": "text/x-python",
   "name": "python",
   "nbconvert_exporter": "python",
   "pygments_lexer": "ipython3",
   "version": "3.7.12"
  },
  "papermill": {
   "default_parameters": {},
   "duration": 55.403149,
   "end_time": "2023-02-16T15:33:57.795521",
   "environment_variables": {},
   "exception": null,
   "input_path": "__notebook__.ipynb",
   "output_path": "__notebook__.ipynb",
   "parameters": {},
   "start_time": "2023-02-16T15:33:02.392372",
   "version": "2.3.4"
  }
 },
 "nbformat": 4,
 "nbformat_minor": 5
}
