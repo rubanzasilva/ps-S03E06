{
 "cells": [
  {
   "cell_type": "code",
   "execution_count": 1,
   "id": "10d2b985",
   "metadata": {
    "_cell_guid": "b1076dfc-b9ad-4769-8c92-a6c4dae69d19",
    "_uuid": "8f2839f25d086af736a60e9eeb907d3b93b6e0e5",
    "execution": {
     "iopub.execute_input": "2023-02-16T15:43:19.825295Z",
     "iopub.status.busy": "2023-02-16T15:43:19.824533Z",
     "iopub.status.idle": "2023-02-16T15:43:19.837779Z",
     "shell.execute_reply": "2023-02-16T15:43:19.836831Z"
    },
    "papermill": {
     "duration": 0.027775,
     "end_time": "2023-02-16T15:43:19.841082",
     "exception": false,
     "start_time": "2023-02-16T15:43:19.813307",
     "status": "completed"
    },
    "tags": []
   },
   "outputs": [
    {
     "name": "stdout",
     "output_type": "stream",
     "text": [
      "/kaggle/input/playground-series-s3e6/sample_submission.csv\n",
      "/kaggle/input/playground-series-s3e6/train.csv\n",
      "/kaggle/input/playground-series-s3e6/test.csv\n"
     ]
    }
   ],
   "source": [
    "# This Python 3 environment comes with many helpful analytics libraries installed\n",
    "# It is defined by the kaggle/python Docker image: https://github.com/kaggle/docker-python\n",
    "# For example, here's several helpful packages to load\n",
    "\n",
    "import numpy as np # linear algebra\n",
    "import pandas as pd # data processing, CSV file I/O (e.g. pd.read_csv)\n",
    "\n",
    "# Input data files are available in the read-only \"../input/\" directory\n",
    "# For example, running this (by clicking run or pressing Shift+Enter) will list all files under the input directory\n",
    "\n",
    "import os\n",
    "for dirname, _, filenames in os.walk('/kaggle/input'):\n",
    "    for filename in filenames:\n",
    "        print(os.path.join(dirname, filename))\n",
    "\n",
    "# You can write up to 20GB to the current directory (/kaggle/working/) that gets preserved as output when you create a version using \"Save & Run All\" \n",
    "# You can also write temporary files to /kaggle/temp/, but they won't be saved outside of the current session"
   ]
  },
  {
   "cell_type": "markdown",
   "id": "a7af2efd",
   "metadata": {
    "papermill": {
     "duration": 0.005964,
     "end_time": "2023-02-16T15:43:19.853964",
     "exception": false,
     "start_time": "2023-02-16T15:43:19.848000",
     "status": "completed"
    },
    "tags": []
   },
   "source": [
    "# **Solution for playground series season 3 episode 6**"
   ]
  },
  {
   "cell_type": "markdown",
   "id": "f1153c55",
   "metadata": {
    "papermill": {
     "duration": 0.005843,
     "end_time": "2023-02-16T15:43:19.865832",
     "exception": false,
     "start_time": "2023-02-16T15:43:19.859989",
     "status": "completed"
    },
    "tags": []
   },
   "source": [
    "**Fastai solution**"
   ]
  },
  {
   "cell_type": "markdown",
   "id": "f7c68d26",
   "metadata": {
    "papermill": {
     "duration": 0.00584,
     "end_time": "2023-02-16T15:43:19.877861",
     "exception": false,
     "start_time": "2023-02-16T15:43:19.872021",
     "status": "completed"
    },
    "tags": []
   },
   "source": [
    "Imports"
   ]
  },
  {
   "cell_type": "code",
   "execution_count": 2,
   "id": "10f6915a",
   "metadata": {
    "execution": {
     "iopub.execute_input": "2023-02-16T15:43:19.891863Z",
     "iopub.status.busy": "2023-02-16T15:43:19.891089Z",
     "iopub.status.idle": "2023-02-16T15:43:22.806908Z",
     "shell.execute_reply": "2023-02-16T15:43:22.805956Z"
    },
    "papermill": {
     "duration": 2.925318,
     "end_time": "2023-02-16T15:43:22.809316",
     "exception": false,
     "start_time": "2023-02-16T15:43:19.883998",
     "status": "completed"
    },
    "tags": []
   },
   "outputs": [],
   "source": [
    "from fastai.tabular.all import *\n",
    "import pandas as pd\n",
    "import matplotlib.pyplot as plt\n",
    "import seaborn as sns\n",
    "import numpy as np\n"
   ]
  },
  {
   "cell_type": "code",
   "execution_count": 3,
   "id": "962943bc",
   "metadata": {
    "execution": {
     "iopub.execute_input": "2023-02-16T15:43:22.823843Z",
     "iopub.status.busy": "2023-02-16T15:43:22.822742Z",
     "iopub.status.idle": "2023-02-16T15:43:23.757357Z",
     "shell.execute_reply": "2023-02-16T15:43:23.756168Z"
    },
    "papermill": {
     "duration": 0.943963,
     "end_time": "2023-02-16T15:43:23.759693",
     "exception": false,
     "start_time": "2023-02-16T15:43:22.815730",
     "status": "completed"
    },
    "tags": []
   },
   "outputs": [
    {
     "name": "stdout",
     "output_type": "stream",
     "text": [
      "/bin/bash: /opt/conda/lib/libtinfo.so.6: no version information available (required by /bin/bash)\r\n",
      "sample_submission.csv  test.csv  train.csv\r\n"
     ]
    }
   ],
   "source": [
    "!ls /kaggle/input/playground-series-s3e6"
   ]
  },
  {
   "cell_type": "code",
   "execution_count": 4,
   "id": "2f5c7964",
   "metadata": {
    "execution": {
     "iopub.execute_input": "2023-02-16T15:43:23.774259Z",
     "iopub.status.busy": "2023-02-16T15:43:23.773612Z",
     "iopub.status.idle": "2023-02-16T15:43:23.783065Z",
     "shell.execute_reply": "2023-02-16T15:43:23.782051Z"
    },
    "papermill": {
     "duration": 0.018838,
     "end_time": "2023-02-16T15:43:23.785040",
     "exception": false,
     "start_time": "2023-02-16T15:43:23.766202",
     "status": "completed"
    },
    "tags": []
   },
   "outputs": [
    {
     "data": {
      "text/plain": [
       "Path('/kaggle/input/playground-series-s3e6')"
      ]
     },
     "execution_count": 4,
     "metadata": {},
     "output_type": "execute_result"
    }
   ],
   "source": [
    "path = Path('/kaggle/input/playground-series-s3e6')\n",
    "path"
   ]
  },
  {
   "cell_type": "markdown",
   "id": "62f9895b",
   "metadata": {
    "papermill": {
     "duration": 0.006685,
     "end_time": "2023-02-16T15:43:23.798059",
     "exception": false,
     "start_time": "2023-02-16T15:43:23.791374",
     "status": "completed"
    },
    "tags": []
   },
   "source": [
    "Define dataframes"
   ]
  },
  {
   "cell_type": "code",
   "execution_count": 5,
   "id": "8d8f939b",
   "metadata": {
    "execution": {
     "iopub.execute_input": "2023-02-16T15:43:23.812233Z",
     "iopub.status.busy": "2023-02-16T15:43:23.811459Z",
     "iopub.status.idle": "2023-02-16T15:43:23.955345Z",
     "shell.execute_reply": "2023-02-16T15:43:23.954326Z"
    },
    "papermill": {
     "duration": 0.153333,
     "end_time": "2023-02-16T15:43:23.957714",
     "exception": false,
     "start_time": "2023-02-16T15:43:23.804381",
     "status": "completed"
    },
    "tags": []
   },
   "outputs": [],
   "source": [
    "train_df = pd.read_csv(path/'train.csv', index_col='id')\n",
    "test_df = pd.read_csv(path/'test.csv', index_col = 'id')\n",
    "sample_df = pd.read_csv(path/'sample_submission.csv', index_col = 'id')"
   ]
  },
  {
   "cell_type": "code",
   "execution_count": 6,
   "id": "8c685294",
   "metadata": {
    "execution": {
     "iopub.execute_input": "2023-02-16T15:43:23.973211Z",
     "iopub.status.busy": "2023-02-16T15:43:23.971627Z",
     "iopub.status.idle": "2023-02-16T15:43:23.994401Z",
     "shell.execute_reply": "2023-02-16T15:43:23.993487Z"
    },
    "papermill": {
     "duration": 0.031974,
     "end_time": "2023-02-16T15:43:23.996421",
     "exception": false,
     "start_time": "2023-02-16T15:43:23.964447",
     "status": "completed"
    },
    "tags": []
   },
   "outputs": [
    {
     "data": {
      "text/html": [
       "<div>\n",
       "<style scoped>\n",
       "    .dataframe tbody tr th:only-of-type {\n",
       "        vertical-align: middle;\n",
       "    }\n",
       "\n",
       "    .dataframe tbody tr th {\n",
       "        vertical-align: top;\n",
       "    }\n",
       "\n",
       "    .dataframe thead th {\n",
       "        text-align: right;\n",
       "    }\n",
       "</style>\n",
       "<table border=\"1\" class=\"dataframe\">\n",
       "  <thead>\n",
       "    <tr style=\"text-align: right;\">\n",
       "      <th></th>\n",
       "      <th>squareMeters</th>\n",
       "      <th>numberOfRooms</th>\n",
       "      <th>hasYard</th>\n",
       "      <th>hasPool</th>\n",
       "      <th>floors</th>\n",
       "      <th>cityCode</th>\n",
       "      <th>cityPartRange</th>\n",
       "      <th>numPrevOwners</th>\n",
       "      <th>made</th>\n",
       "      <th>isNewBuilt</th>\n",
       "      <th>hasStormProtector</th>\n",
       "      <th>basement</th>\n",
       "      <th>attic</th>\n",
       "      <th>garage</th>\n",
       "      <th>hasStorageRoom</th>\n",
       "      <th>hasGuestRoom</th>\n",
       "      <th>price</th>\n",
       "    </tr>\n",
       "    <tr>\n",
       "      <th>id</th>\n",
       "      <th></th>\n",
       "      <th></th>\n",
       "      <th></th>\n",
       "      <th></th>\n",
       "      <th></th>\n",
       "      <th></th>\n",
       "      <th></th>\n",
       "      <th></th>\n",
       "      <th></th>\n",
       "      <th></th>\n",
       "      <th></th>\n",
       "      <th></th>\n",
       "      <th></th>\n",
       "      <th></th>\n",
       "      <th></th>\n",
       "      <th></th>\n",
       "      <th></th>\n",
       "    </tr>\n",
       "  </thead>\n",
       "  <tbody>\n",
       "    <tr>\n",
       "      <th>0</th>\n",
       "      <td>34291</td>\n",
       "      <td>24</td>\n",
       "      <td>1</td>\n",
       "      <td>0</td>\n",
       "      <td>47</td>\n",
       "      <td>35693</td>\n",
       "      <td>2</td>\n",
       "      <td>1</td>\n",
       "      <td>2000</td>\n",
       "      <td>0</td>\n",
       "      <td>1</td>\n",
       "      <td>8</td>\n",
       "      <td>5196</td>\n",
       "      <td>369</td>\n",
       "      <td>0</td>\n",
       "      <td>3</td>\n",
       "      <td>3436795.2</td>\n",
       "    </tr>\n",
       "    <tr>\n",
       "      <th>1</th>\n",
       "      <td>95145</td>\n",
       "      <td>60</td>\n",
       "      <td>0</td>\n",
       "      <td>1</td>\n",
       "      <td>60</td>\n",
       "      <td>34773</td>\n",
       "      <td>1</td>\n",
       "      <td>4</td>\n",
       "      <td>2000</td>\n",
       "      <td>0</td>\n",
       "      <td>1</td>\n",
       "      <td>729</td>\n",
       "      <td>4496</td>\n",
       "      <td>277</td>\n",
       "      <td>0</td>\n",
       "      <td>6</td>\n",
       "      <td>9519958.0</td>\n",
       "    </tr>\n",
       "    <tr>\n",
       "      <th>2</th>\n",
       "      <td>92661</td>\n",
       "      <td>45</td>\n",
       "      <td>1</td>\n",
       "      <td>1</td>\n",
       "      <td>62</td>\n",
       "      <td>45457</td>\n",
       "      <td>4</td>\n",
       "      <td>8</td>\n",
       "      <td>2020</td>\n",
       "      <td>1</td>\n",
       "      <td>1</td>\n",
       "      <td>7473</td>\n",
       "      <td>8953</td>\n",
       "      <td>245</td>\n",
       "      <td>1</td>\n",
       "      <td>9</td>\n",
       "      <td>9276448.1</td>\n",
       "    </tr>\n",
       "    <tr>\n",
       "      <th>3</th>\n",
       "      <td>97184</td>\n",
       "      <td>99</td>\n",
       "      <td>0</td>\n",
       "      <td>0</td>\n",
       "      <td>59</td>\n",
       "      <td>15113</td>\n",
       "      <td>1</td>\n",
       "      <td>1</td>\n",
       "      <td>2000</td>\n",
       "      <td>0</td>\n",
       "      <td>1</td>\n",
       "      <td>6424</td>\n",
       "      <td>8522</td>\n",
       "      <td>256</td>\n",
       "      <td>1</td>\n",
       "      <td>9</td>\n",
       "      <td>9725732.2</td>\n",
       "    </tr>\n",
       "    <tr>\n",
       "      <th>4</th>\n",
       "      <td>61752</td>\n",
       "      <td>100</td>\n",
       "      <td>0</td>\n",
       "      <td>0</td>\n",
       "      <td>57</td>\n",
       "      <td>64245</td>\n",
       "      <td>8</td>\n",
       "      <td>4</td>\n",
       "      <td>2018</td>\n",
       "      <td>1</td>\n",
       "      <td>0</td>\n",
       "      <td>7151</td>\n",
       "      <td>2786</td>\n",
       "      <td>863</td>\n",
       "      <td>0</td>\n",
       "      <td>7</td>\n",
       "      <td>6181908.8</td>\n",
       "    </tr>\n",
       "    <tr>\n",
       "      <th>...</th>\n",
       "      <td>...</td>\n",
       "      <td>...</td>\n",
       "      <td>...</td>\n",
       "      <td>...</td>\n",
       "      <td>...</td>\n",
       "      <td>...</td>\n",
       "      <td>...</td>\n",
       "      <td>...</td>\n",
       "      <td>...</td>\n",
       "      <td>...</td>\n",
       "      <td>...</td>\n",
       "      <td>...</td>\n",
       "      <td>...</td>\n",
       "      <td>...</td>\n",
       "      <td>...</td>\n",
       "      <td>...</td>\n",
       "      <td>...</td>\n",
       "    </tr>\n",
       "    <tr>\n",
       "      <th>22725</th>\n",
       "      <td>55825</td>\n",
       "      <td>84</td>\n",
       "      <td>1</td>\n",
       "      <td>0</td>\n",
       "      <td>70</td>\n",
       "      <td>12031</td>\n",
       "      <td>3</td>\n",
       "      <td>10</td>\n",
       "      <td>2000</td>\n",
       "      <td>0</td>\n",
       "      <td>0</td>\n",
       "      <td>4477</td>\n",
       "      <td>786</td>\n",
       "      <td>345</td>\n",
       "      <td>0</td>\n",
       "      <td>0</td>\n",
       "      <td>5594137.1</td>\n",
       "    </tr>\n",
       "    <tr>\n",
       "      <th>22726</th>\n",
       "      <td>65870</td>\n",
       "      <td>88</td>\n",
       "      <td>1</td>\n",
       "      <td>0</td>\n",
       "      <td>49</td>\n",
       "      <td>23197</td>\n",
       "      <td>9</td>\n",
       "      <td>9</td>\n",
       "      <td>2015</td>\n",
       "      <td>0</td>\n",
       "      <td>1</td>\n",
       "      <td>4811</td>\n",
       "      <td>2454</td>\n",
       "      <td>755</td>\n",
       "      <td>0</td>\n",
       "      <td>7</td>\n",
       "      <td>6594705.0</td>\n",
       "    </tr>\n",
       "    <tr>\n",
       "      <th>22727</th>\n",
       "      <td>93192</td>\n",
       "      <td>42</td>\n",
       "      <td>1</td>\n",
       "      <td>0</td>\n",
       "      <td>39</td>\n",
       "      <td>8539</td>\n",
       "      <td>10</td>\n",
       "      <td>5</td>\n",
       "      <td>2014</td>\n",
       "      <td>1</td>\n",
       "      <td>0</td>\n",
       "      <td>5595</td>\n",
       "      <td>4072</td>\n",
       "      <td>789</td>\n",
       "      <td>0</td>\n",
       "      <td>0</td>\n",
       "      <td>9321511.4</td>\n",
       "    </tr>\n",
       "    <tr>\n",
       "      <th>22728</th>\n",
       "      <td>65797</td>\n",
       "      <td>86</td>\n",
       "      <td>1</td>\n",
       "      <td>0</td>\n",
       "      <td>89</td>\n",
       "      <td>23197</td>\n",
       "      <td>2</td>\n",
       "      <td>10</td>\n",
       "      <td>2000</td>\n",
       "      <td>1</td>\n",
       "      <td>0</td>\n",
       "      <td>5358</td>\n",
       "      <td>2513</td>\n",
       "      <td>411</td>\n",
       "      <td>0</td>\n",
       "      <td>0</td>\n",
       "      <td>6584708.2</td>\n",
       "    </tr>\n",
       "    <tr>\n",
       "      <th>22729</th>\n",
       "      <td>82244</td>\n",
       "      <td>18</td>\n",
       "      <td>1</td>\n",
       "      <td>0</td>\n",
       "      <td>38</td>\n",
       "      <td>86728</td>\n",
       "      <td>1</td>\n",
       "      <td>9</td>\n",
       "      <td>2018</td>\n",
       "      <td>1</td>\n",
       "      <td>0</td>\n",
       "      <td>6294</td>\n",
       "      <td>1291</td>\n",
       "      <td>572</td>\n",
       "      <td>0</td>\n",
       "      <td>6</td>\n",
       "      <td>8231424.8</td>\n",
       "    </tr>\n",
       "  </tbody>\n",
       "</table>\n",
       "<p>22730 rows × 17 columns</p>\n",
       "</div>"
      ],
      "text/plain": [
       "       squareMeters  numberOfRooms  hasYard  hasPool  floors  cityCode  \\\n",
       "id                                                                       \n",
       "0             34291             24        1        0      47     35693   \n",
       "1             95145             60        0        1      60     34773   \n",
       "2             92661             45        1        1      62     45457   \n",
       "3             97184             99        0        0      59     15113   \n",
       "4             61752            100        0        0      57     64245   \n",
       "...             ...            ...      ...      ...     ...       ...   \n",
       "22725         55825             84        1        0      70     12031   \n",
       "22726         65870             88        1        0      49     23197   \n",
       "22727         93192             42        1        0      39      8539   \n",
       "22728         65797             86        1        0      89     23197   \n",
       "22729         82244             18        1        0      38     86728   \n",
       "\n",
       "       cityPartRange  numPrevOwners  made  isNewBuilt  hasStormProtector  \\\n",
       "id                                                                         \n",
       "0                  2              1  2000           0                  1   \n",
       "1                  1              4  2000           0                  1   \n",
       "2                  4              8  2020           1                  1   \n",
       "3                  1              1  2000           0                  1   \n",
       "4                  8              4  2018           1                  0   \n",
       "...              ...            ...   ...         ...                ...   \n",
       "22725              3             10  2000           0                  0   \n",
       "22726              9              9  2015           0                  1   \n",
       "22727             10              5  2014           1                  0   \n",
       "22728              2             10  2000           1                  0   \n",
       "22729              1              9  2018           1                  0   \n",
       "\n",
       "       basement  attic  garage  hasStorageRoom  hasGuestRoom      price  \n",
       "id                                                                       \n",
       "0             8   5196     369               0             3  3436795.2  \n",
       "1           729   4496     277               0             6  9519958.0  \n",
       "2          7473   8953     245               1             9  9276448.1  \n",
       "3          6424   8522     256               1             9  9725732.2  \n",
       "4          7151   2786     863               0             7  6181908.8  \n",
       "...         ...    ...     ...             ...           ...        ...  \n",
       "22725      4477    786     345               0             0  5594137.1  \n",
       "22726      4811   2454     755               0             7  6594705.0  \n",
       "22727      5595   4072     789               0             0  9321511.4  \n",
       "22728      5358   2513     411               0             0  6584708.2  \n",
       "22729      6294   1291     572               0             6  8231424.8  \n",
       "\n",
       "[22730 rows x 17 columns]"
      ]
     },
     "execution_count": 6,
     "metadata": {},
     "output_type": "execute_result"
    }
   ],
   "source": [
    "train_df"
   ]
  },
  {
   "cell_type": "code",
   "execution_count": 7,
   "id": "3f9a4989",
   "metadata": {
    "execution": {
     "iopub.execute_input": "2023-02-16T15:43:24.011146Z",
     "iopub.status.busy": "2023-02-16T15:43:24.010841Z",
     "iopub.status.idle": "2023-02-16T15:43:24.016805Z",
     "shell.execute_reply": "2023-02-16T15:43:24.015894Z"
    },
    "papermill": {
     "duration": 0.015587,
     "end_time": "2023-02-16T15:43:24.018753",
     "exception": false,
     "start_time": "2023-02-16T15:43:24.003166",
     "status": "completed"
    },
    "tags": []
   },
   "outputs": [
    {
     "data": {
      "text/plain": [
       "Index(['squareMeters', 'numberOfRooms', 'hasYard', 'hasPool', 'floors',\n",
       "       'cityCode', 'cityPartRange', 'numPrevOwners', 'made', 'isNewBuilt',\n",
       "       'hasStormProtector', 'basement', 'attic', 'garage', 'hasStorageRoom',\n",
       "       'hasGuestRoom', 'price'],\n",
       "      dtype='object')"
      ]
     },
     "execution_count": 7,
     "metadata": {},
     "output_type": "execute_result"
    }
   ],
   "source": [
    "train_df.columns"
   ]
  },
  {
   "cell_type": "code",
   "execution_count": 8,
   "id": "7f4eff16",
   "metadata": {
    "execution": {
     "iopub.execute_input": "2023-02-16T15:43:24.034012Z",
     "iopub.status.busy": "2023-02-16T15:43:24.033171Z",
     "iopub.status.idle": "2023-02-16T15:43:24.044511Z",
     "shell.execute_reply": "2023-02-16T15:43:24.043696Z"
    },
    "papermill": {
     "duration": 0.021123,
     "end_time": "2023-02-16T15:43:24.046505",
     "exception": false,
     "start_time": "2023-02-16T15:43:24.025382",
     "status": "completed"
    },
    "tags": []
   },
   "outputs": [],
   "source": [
    "#identify cont and cat variables \n",
    "cont_names, cat_names = cont_cat_split(train_df)"
   ]
  },
  {
   "cell_type": "code",
   "execution_count": 9,
   "id": "ebd3763b",
   "metadata": {
    "execution": {
     "iopub.execute_input": "2023-02-16T15:43:24.061315Z",
     "iopub.status.busy": "2023-02-16T15:43:24.061051Z",
     "iopub.status.idle": "2023-02-16T15:43:24.066732Z",
     "shell.execute_reply": "2023-02-16T15:43:24.065848Z"
    },
    "papermill": {
     "duration": 0.01523,
     "end_time": "2023-02-16T15:43:24.068627",
     "exception": false,
     "start_time": "2023-02-16T15:43:24.053397",
     "status": "completed"
    },
    "tags": []
   },
   "outputs": [
    {
     "data": {
      "text/plain": [
       "['squareMeters',\n",
       " 'numberOfRooms',\n",
       " 'floors',\n",
       " 'cityCode',\n",
       " 'made',\n",
       " 'basement',\n",
       " 'attic',\n",
       " 'garage',\n",
       " 'price']"
      ]
     },
     "execution_count": 9,
     "metadata": {},
     "output_type": "execute_result"
    }
   ],
   "source": [
    "cont_names"
   ]
  },
  {
   "cell_type": "code",
   "execution_count": 10,
   "id": "e560e6f1",
   "metadata": {
    "execution": {
     "iopub.execute_input": "2023-02-16T15:43:24.084033Z",
     "iopub.status.busy": "2023-02-16T15:43:24.083223Z",
     "iopub.status.idle": "2023-02-16T15:43:24.089357Z",
     "shell.execute_reply": "2023-02-16T15:43:24.088405Z"
    },
    "papermill": {
     "duration": 0.015713,
     "end_time": "2023-02-16T15:43:24.091268",
     "exception": false,
     "start_time": "2023-02-16T15:43:24.075555",
     "status": "completed"
    },
    "tags": []
   },
   "outputs": [
    {
     "data": {
      "text/plain": [
       "['hasYard',\n",
       " 'hasPool',\n",
       " 'cityPartRange',\n",
       " 'numPrevOwners',\n",
       " 'isNewBuilt',\n",
       " 'hasStormProtector',\n",
       " 'hasStorageRoom',\n",
       " 'hasGuestRoom']"
      ]
     },
     "execution_count": 10,
     "metadata": {},
     "output_type": "execute_result"
    }
   ],
   "source": [
    "cat_names"
   ]
  },
  {
   "cell_type": "code",
   "execution_count": 11,
   "id": "d763ecfe",
   "metadata": {
    "execution": {
     "iopub.execute_input": "2023-02-16T15:43:24.106944Z",
     "iopub.status.busy": "2023-02-16T15:43:24.106088Z",
     "iopub.status.idle": "2023-02-16T15:43:24.111395Z",
     "shell.execute_reply": "2023-02-16T15:43:24.110563Z"
    },
    "papermill": {
     "duration": 0.014994,
     "end_time": "2023-02-16T15:43:24.113339",
     "exception": false,
     "start_time": "2023-02-16T15:43:24.098345",
     "status": "completed"
    },
    "tags": []
   },
   "outputs": [],
   "source": [
    "cat_names = ['hasYard','hasPool','cityPartRange','numPrevOwners','isNewBuilt','hasStormProtector','hasStorageRoom','hasGuestRoom'],\n",
    "cont_names = ['squareMeters','numberOfRooms','floors','cityCode','made','basement','attic','garage',],"
   ]
  },
  {
   "cell_type": "code",
   "execution_count": 12,
   "id": "763873f9",
   "metadata": {
    "execution": {
     "iopub.execute_input": "2023-02-16T15:43:24.128651Z",
     "iopub.status.busy": "2023-02-16T15:43:24.127913Z",
     "iopub.status.idle": "2023-02-16T15:43:24.133863Z",
     "shell.execute_reply": "2023-02-16T15:43:24.133001Z"
    },
    "papermill": {
     "duration": 0.015464,
     "end_time": "2023-02-16T15:43:24.135738",
     "exception": false,
     "start_time": "2023-02-16T15:43:24.120274",
     "status": "completed"
    },
    "tags": []
   },
   "outputs": [
    {
     "data": {
      "text/plain": [
       "(['squareMeters',\n",
       "  'numberOfRooms',\n",
       "  'floors',\n",
       "  'cityCode',\n",
       "  'made',\n",
       "  'basement',\n",
       "  'attic',\n",
       "  'garage'],)"
      ]
     },
     "execution_count": 12,
     "metadata": {},
     "output_type": "execute_result"
    }
   ],
   "source": [
    "cont_names"
   ]
  },
  {
   "cell_type": "markdown",
   "id": "c86c1ff0",
   "metadata": {
    "papermill": {
     "duration": 0.00671,
     "end_time": "2023-02-16T15:43:24.149428",
     "exception": false,
     "start_time": "2023-02-16T15:43:24.142718",
     "status": "completed"
    },
    "tags": []
   },
   "source": [
    "Build dataloaders"
   ]
  },
  {
   "cell_type": "code",
   "execution_count": 13,
   "id": "b01f835d",
   "metadata": {
    "execution": {
     "iopub.execute_input": "2023-02-16T15:43:24.164883Z",
     "iopub.status.busy": "2023-02-16T15:43:24.164120Z",
     "iopub.status.idle": "2023-02-16T15:43:24.308558Z",
     "shell.execute_reply": "2023-02-16T15:43:24.307586Z"
    },
    "papermill": {
     "duration": 0.154758,
     "end_time": "2023-02-16T15:43:24.311051",
     "exception": false,
     "start_time": "2023-02-16T15:43:24.156293",
     "status": "completed"
    },
    "tags": []
   },
   "outputs": [],
   "source": [
    "dls = TabularDataLoaders.from_csv(path/'train.csv', path=path, y_names=\"price\",\n",
    "    cat_names = ['hasYard','hasPool','cityPartRange','numPrevOwners','isNewBuilt','hasStormProtector','hasStorageRoom','hasGuestRoom'],\n",
    "    cont_names = ['squareMeters','numberOfRooms','floors','cityCode','made','basement','attic','garage',],\n",
    "    procs = [Categorify, FillMissing, Normalize])"
   ]
  },
  {
   "cell_type": "code",
   "execution_count": 14,
   "id": "98dfa8a0",
   "metadata": {
    "execution": {
     "iopub.execute_input": "2023-02-16T15:43:24.327643Z",
     "iopub.status.busy": "2023-02-16T15:43:24.326643Z",
     "iopub.status.idle": "2023-02-16T15:43:24.334026Z",
     "shell.execute_reply": "2023-02-16T15:43:24.333180Z"
    },
    "papermill": {
     "duration": 0.017722,
     "end_time": "2023-02-16T15:43:24.336037",
     "exception": false,
     "start_time": "2023-02-16T15:43:24.318315",
     "status": "completed"
    },
    "tags": []
   },
   "outputs": [],
   "source": [
    "splits = RandomSplitter(valid_pct=0.2)(range_of(train_df))"
   ]
  },
  {
   "cell_type": "code",
   "execution_count": 15,
   "id": "b8324bfd",
   "metadata": {
    "execution": {
     "iopub.execute_input": "2023-02-16T15:43:24.352179Z",
     "iopub.status.busy": "2023-02-16T15:43:24.350800Z",
     "iopub.status.idle": "2023-02-16T15:43:24.403189Z",
     "shell.execute_reply": "2023-02-16T15:43:24.402324Z"
    },
    "papermill": {
     "duration": 0.062225,
     "end_time": "2023-02-16T15:43:24.405281",
     "exception": false,
     "start_time": "2023-02-16T15:43:24.343056",
     "status": "completed"
    },
    "tags": []
   },
   "outputs": [],
   "source": [
    "to = TabularPandas(train_df, procs=[Categorify, FillMissing,Normalize],\n",
    "                   cat_names = ['hasYard','hasPool','cityPartRange','numPrevOwners','isNewBuilt','hasStormProtector','hasStorageRoom','hasGuestRoom'],\n",
    "                   cont_names = ['squareMeters','numberOfRooms','floors','cityCode','made','basement','attic','garage',],\n",
    "                   y_names='price',\n",
    "                   splits=splits)"
   ]
  },
  {
   "cell_type": "code",
   "execution_count": 16,
   "id": "a60f59b5",
   "metadata": {
    "execution": {
     "iopub.execute_input": "2023-02-16T15:43:24.422725Z",
     "iopub.status.busy": "2023-02-16T15:43:24.422425Z",
     "iopub.status.idle": "2023-02-16T15:43:24.439034Z",
     "shell.execute_reply": "2023-02-16T15:43:24.438039Z"
    },
    "papermill": {
     "duration": 0.027207,
     "end_time": "2023-02-16T15:43:24.441274",
     "exception": false,
     "start_time": "2023-02-16T15:43:24.414067",
     "status": "completed"
    },
    "tags": []
   },
   "outputs": [
    {
     "data": {
      "text/html": [
       "<div>\n",
       "<style scoped>\n",
       "    .dataframe tbody tr th:only-of-type {\n",
       "        vertical-align: middle;\n",
       "    }\n",
       "\n",
       "    .dataframe tbody tr th {\n",
       "        vertical-align: top;\n",
       "    }\n",
       "\n",
       "    .dataframe thead th {\n",
       "        text-align: right;\n",
       "    }\n",
       "</style>\n",
       "<table border=\"1\" class=\"dataframe\">\n",
       "  <thead>\n",
       "    <tr style=\"text-align: right;\">\n",
       "      <th></th>\n",
       "      <th>hasYard</th>\n",
       "      <th>hasPool</th>\n",
       "      <th>cityPartRange</th>\n",
       "      <th>numPrevOwners</th>\n",
       "      <th>isNewBuilt</th>\n",
       "      <th>hasStormProtector</th>\n",
       "      <th>hasStorageRoom</th>\n",
       "      <th>hasGuestRoom</th>\n",
       "      <th>squareMeters</th>\n",
       "      <th>numberOfRooms</th>\n",
       "      <th>floors</th>\n",
       "      <th>cityCode</th>\n",
       "      <th>made</th>\n",
       "      <th>basement</th>\n",
       "      <th>attic</th>\n",
       "      <th>garage</th>\n",
       "    </tr>\n",
       "    <tr>\n",
       "      <th>id</th>\n",
       "      <th></th>\n",
       "      <th></th>\n",
       "      <th></th>\n",
       "      <th></th>\n",
       "      <th></th>\n",
       "      <th></th>\n",
       "      <th></th>\n",
       "      <th></th>\n",
       "      <th></th>\n",
       "      <th></th>\n",
       "      <th></th>\n",
       "      <th></th>\n",
       "      <th></th>\n",
       "      <th></th>\n",
       "      <th></th>\n",
       "      <th></th>\n",
       "    </tr>\n",
       "  </thead>\n",
       "  <tbody>\n",
       "    <tr>\n",
       "      <th>21614</th>\n",
       "      <td>1</td>\n",
       "      <td>1</td>\n",
       "      <td>9</td>\n",
       "      <td>4</td>\n",
       "      <td>2</td>\n",
       "      <td>1</td>\n",
       "      <td>1</td>\n",
       "      <td>9</td>\n",
       "      <td>-0.753909</td>\n",
       "      <td>0.628856</td>\n",
       "      <td>0.650346</td>\n",
       "      <td>1.522034</td>\n",
       "      <td>-0.108703</td>\n",
       "      <td>1.265216</td>\n",
       "      <td>0.574431</td>\n",
       "      <td>1.124861</td>\n",
       "    </tr>\n",
       "    <tr>\n",
       "      <th>4175</th>\n",
       "      <td>2</td>\n",
       "      <td>2</td>\n",
       "      <td>10</td>\n",
       "      <td>1</td>\n",
       "      <td>1</td>\n",
       "      <td>2</td>\n",
       "      <td>2</td>\n",
       "      <td>2</td>\n",
       "      <td>-0.697944</td>\n",
       "      <td>-1.603245</td>\n",
       "      <td>-0.761043</td>\n",
       "      <td>0.212494</td>\n",
       "      <td>-0.093641</td>\n",
       "      <td>-0.437867</td>\n",
       "      <td>-0.103354</td>\n",
       "      <td>1.009737</td>\n",
       "    </tr>\n",
       "  </tbody>\n",
       "</table>\n",
       "</div>"
      ],
      "text/plain": [
       "       hasYard  hasPool  cityPartRange  numPrevOwners  isNewBuilt  \\\n",
       "id                                                                  \n",
       "21614        1        1              9              4           2   \n",
       "4175         2        2             10              1           1   \n",
       "\n",
       "       hasStormProtector  hasStorageRoom  hasGuestRoom  squareMeters  \\\n",
       "id                                                                     \n",
       "21614                  1               1             9     -0.753909   \n",
       "4175                   2               2             2     -0.697944   \n",
       "\n",
       "       numberOfRooms    floors  cityCode      made  basement     attic  \\\n",
       "id                                                                       \n",
       "21614       0.628856  0.650346  1.522034 -0.108703  1.265216  0.574431   \n",
       "4175       -1.603245 -0.761043  0.212494 -0.093641 -0.437867 -0.103354   \n",
       "\n",
       "         garage  \n",
       "id               \n",
       "21614  1.124861  \n",
       "4175   1.009737  "
      ]
     },
     "execution_count": 16,
     "metadata": {},
     "output_type": "execute_result"
    }
   ],
   "source": [
    "to.xs.iloc[:2]"
   ]
  },
  {
   "cell_type": "code",
   "execution_count": 17,
   "id": "46dd72e3",
   "metadata": {
    "execution": {
     "iopub.execute_input": "2023-02-16T15:43:24.456556Z",
     "iopub.status.busy": "2023-02-16T15:43:24.456292Z",
     "iopub.status.idle": "2023-02-16T15:43:24.466728Z",
     "shell.execute_reply": "2023-02-16T15:43:24.465903Z"
    },
    "papermill": {
     "duration": 0.020184,
     "end_time": "2023-02-16T15:43:24.468579",
     "exception": false,
     "start_time": "2023-02-16T15:43:24.448395",
     "status": "completed"
    },
    "tags": []
   },
   "outputs": [],
   "source": [
    "dls = to.dataloaders(bs=64)"
   ]
  },
  {
   "cell_type": "code",
   "execution_count": 18,
   "id": "1d6b2875",
   "metadata": {
    "execution": {
     "iopub.execute_input": "2023-02-16T15:43:24.484375Z",
     "iopub.status.busy": "2023-02-16T15:43:24.483611Z",
     "iopub.status.idle": "2023-02-16T15:43:24.541737Z",
     "shell.execute_reply": "2023-02-16T15:43:24.540730Z"
    },
    "papermill": {
     "duration": 0.068353,
     "end_time": "2023-02-16T15:43:24.544184",
     "exception": false,
     "start_time": "2023-02-16T15:43:24.475831",
     "status": "completed"
    },
    "tags": []
   },
   "outputs": [
    {
     "data": {
      "text/html": [
       "<table border=\"1\" class=\"dataframe\">\n",
       "  <thead>\n",
       "    <tr style=\"text-align: right;\">\n",
       "      <th></th>\n",
       "      <th>hasYard</th>\n",
       "      <th>hasPool</th>\n",
       "      <th>cityPartRange</th>\n",
       "      <th>numPrevOwners</th>\n",
       "      <th>isNewBuilt</th>\n",
       "      <th>hasStormProtector</th>\n",
       "      <th>hasStorageRoom</th>\n",
       "      <th>hasGuestRoom</th>\n",
       "      <th>squareMeters</th>\n",
       "      <th>numberOfRooms</th>\n",
       "      <th>floors</th>\n",
       "      <th>cityCode</th>\n",
       "      <th>made</th>\n",
       "      <th>basement</th>\n",
       "      <th>attic</th>\n",
       "      <th>garage</th>\n",
       "      <th>price</th>\n",
       "    </tr>\n",
       "  </thead>\n",
       "  <tbody>\n",
       "    <tr>\n",
       "      <th>0</th>\n",
       "      <td>0</td>\n",
       "      <td>0</td>\n",
       "      <td>4</td>\n",
       "      <td>5</td>\n",
       "      <td>1</td>\n",
       "      <td>0</td>\n",
       "      <td>1</td>\n",
       "      <td>7</td>\n",
       "      <td>27278.999834</td>\n",
       "      <td>38.000000</td>\n",
       "      <td>37.000000</td>\n",
       "      <td>20784.999226</td>\n",
       "      <td>2003.0</td>\n",
       "      <td>6928.000075</td>\n",
       "      <td>3407.999934</td>\n",
       "      <td>215.000008</td>\n",
       "      <td>2.739499e+06</td>\n",
       "    </tr>\n",
       "    <tr>\n",
       "      <th>1</th>\n",
       "      <td>0</td>\n",
       "      <td>1</td>\n",
       "      <td>9</td>\n",
       "      <td>6</td>\n",
       "      <td>1</td>\n",
       "      <td>0</td>\n",
       "      <td>0</td>\n",
       "      <td>8</td>\n",
       "      <td>26792.000288</td>\n",
       "      <td>66.999999</td>\n",
       "      <td>34.000000</td>\n",
       "      <td>49199.000007</td>\n",
       "      <td>2003.0</td>\n",
       "      <td>8180.999942</td>\n",
       "      <td>7635.000033</td>\n",
       "      <td>685.000006</td>\n",
       "      <td>2.684819e+06</td>\n",
       "    </tr>\n",
       "    <tr>\n",
       "      <th>2</th>\n",
       "      <td>0</td>\n",
       "      <td>0</td>\n",
       "      <td>4</td>\n",
       "      <td>8</td>\n",
       "      <td>1</td>\n",
       "      <td>1</td>\n",
       "      <td>0</td>\n",
       "      <td>3</td>\n",
       "      <td>16599.000649</td>\n",
       "      <td>86.000000</td>\n",
       "      <td>29.000000</td>\n",
       "      <td>54971.000190</td>\n",
       "      <td>2019.0</td>\n",
       "      <td>8184.999938</td>\n",
       "      <td>605.999948</td>\n",
       "      <td>953.000003</td>\n",
       "      <td>1.665462e+06</td>\n",
       "    </tr>\n",
       "    <tr>\n",
       "      <th>3</th>\n",
       "      <td>1</td>\n",
       "      <td>0</td>\n",
       "      <td>6</td>\n",
       "      <td>5</td>\n",
       "      <td>1</td>\n",
       "      <td>0</td>\n",
       "      <td>1</td>\n",
       "      <td>8</td>\n",
       "      <td>7787.999809</td>\n",
       "      <td>24.999999</td>\n",
       "      <td>79.000001</td>\n",
       "      <td>10826.001236</td>\n",
       "      <td>1993.0</td>\n",
       "      <td>2271.999913</td>\n",
       "      <td>1226.999855</td>\n",
       "      <td>558.000001</td>\n",
       "      <td>7.916243e+05</td>\n",
       "    </tr>\n",
       "    <tr>\n",
       "      <th>4</th>\n",
       "      <td>1</td>\n",
       "      <td>1</td>\n",
       "      <td>4</td>\n",
       "      <td>9</td>\n",
       "      <td>1</td>\n",
       "      <td>1</td>\n",
       "      <td>0</td>\n",
       "      <td>3</td>\n",
       "      <td>5856.000303</td>\n",
       "      <td>95.999999</td>\n",
       "      <td>88.000000</td>\n",
       "      <td>48868.000034</td>\n",
       "      <td>2000.0</td>\n",
       "      <td>6992.000015</td>\n",
       "      <td>8290.999841</td>\n",
       "      <td>332.999997</td>\n",
       "      <td>5.987162e+05</td>\n",
       "    </tr>\n",
       "    <tr>\n",
       "      <th>5</th>\n",
       "      <td>0</td>\n",
       "      <td>0</td>\n",
       "      <td>5</td>\n",
       "      <td>8</td>\n",
       "      <td>0</td>\n",
       "      <td>0</td>\n",
       "      <td>1</td>\n",
       "      <td>2</td>\n",
       "      <td>88408.000065</td>\n",
       "      <td>56.000000</td>\n",
       "      <td>26.000000</td>\n",
       "      <td>71585.000335</td>\n",
       "      <td>2004.0</td>\n",
       "      <td>544.999857</td>\n",
       "      <td>6523.999971</td>\n",
       "      <td>617.999999</td>\n",
       "      <td>8.842527e+06</td>\n",
       "    </tr>\n",
       "    <tr>\n",
       "      <th>6</th>\n",
       "      <td>0</td>\n",
       "      <td>1</td>\n",
       "      <td>2</td>\n",
       "      <td>9</td>\n",
       "      <td>0</td>\n",
       "      <td>1</td>\n",
       "      <td>1</td>\n",
       "      <td>5</td>\n",
       "      <td>579.000280</td>\n",
       "      <td>11.999999</td>\n",
       "      <td>55.000000</td>\n",
       "      <td>69571.999518</td>\n",
       "      <td>1994.0</td>\n",
       "      <td>2426.000040</td>\n",
       "      <td>2794.999917</td>\n",
       "      <td>383.000000</td>\n",
       "      <td>6.371840e+04</td>\n",
       "    </tr>\n",
       "    <tr>\n",
       "      <th>7</th>\n",
       "      <td>0</td>\n",
       "      <td>1</td>\n",
       "      <td>3</td>\n",
       "      <td>9</td>\n",
       "      <td>1</td>\n",
       "      <td>1</td>\n",
       "      <td>0</td>\n",
       "      <td>0</td>\n",
       "      <td>23763.000714</td>\n",
       "      <td>26.000000</td>\n",
       "      <td>54.000000</td>\n",
       "      <td>62577.999788</td>\n",
       "      <td>1993.0</td>\n",
       "      <td>7638.999997</td>\n",
       "      <td>8873.000172</td>\n",
       "      <td>672.000000</td>\n",
       "      <td>2.386943e+06</td>\n",
       "    </tr>\n",
       "    <tr>\n",
       "      <th>8</th>\n",
       "      <td>1</td>\n",
       "      <td>0</td>\n",
       "      <td>6</td>\n",
       "      <td>4</td>\n",
       "      <td>1</td>\n",
       "      <td>1</td>\n",
       "      <td>1</td>\n",
       "      <td>0</td>\n",
       "      <td>57969.999841</td>\n",
       "      <td>75.000000</td>\n",
       "      <td>53.000000</td>\n",
       "      <td>25411.999602</td>\n",
       "      <td>2013.0</td>\n",
       "      <td>9899.999824</td>\n",
       "      <td>7766.000056</td>\n",
       "      <td>509.999999</td>\n",
       "      <td>5.811906e+06</td>\n",
       "    </tr>\n",
       "    <tr>\n",
       "      <th>9</th>\n",
       "      <td>0</td>\n",
       "      <td>0</td>\n",
       "      <td>1</td>\n",
       "      <td>6</td>\n",
       "      <td>1</td>\n",
       "      <td>0</td>\n",
       "      <td>1</td>\n",
       "      <td>1</td>\n",
       "      <td>303.000805</td>\n",
       "      <td>66.000000</td>\n",
       "      <td>94.000000</td>\n",
       "      <td>37332.000049</td>\n",
       "      <td>2000.0</td>\n",
       "      <td>2996.999912</td>\n",
       "      <td>8523.000075</td>\n",
       "      <td>215.000008</td>\n",
       "      <td>3.196610e+04</td>\n",
       "    </tr>\n",
       "  </tbody>\n",
       "</table>"
      ],
      "text/plain": [
       "<IPython.core.display.HTML object>"
      ]
     },
     "metadata": {},
     "output_type": "display_data"
    }
   ],
   "source": [
    "dls.show_batch()"
   ]
  },
  {
   "cell_type": "markdown",
   "id": "0c04a95a",
   "metadata": {
    "papermill": {
     "duration": 0.007264,
     "end_time": "2023-02-16T15:43:24.559110",
     "exception": false,
     "start_time": "2023-02-16T15:43:24.551846",
     "status": "completed"
    },
    "tags": []
   },
   "source": [
    "Tabular learner"
   ]
  },
  {
   "cell_type": "code",
   "execution_count": 19,
   "id": "cdee9c2d",
   "metadata": {
    "execution": {
     "iopub.execute_input": "2023-02-16T15:43:24.574911Z",
     "iopub.status.busy": "2023-02-16T15:43:24.574630Z",
     "iopub.status.idle": "2023-02-16T15:43:30.566533Z",
     "shell.execute_reply": "2023-02-16T15:43:30.565588Z"
    },
    "papermill": {
     "duration": 6.002328,
     "end_time": "2023-02-16T15:43:30.568792",
     "exception": false,
     "start_time": "2023-02-16T15:43:24.566464",
     "status": "completed"
    },
    "tags": []
   },
   "outputs": [
    {
     "data": {
      "text/html": [
       "\n",
       "<style>\n",
       "    /* Turns off some styling */\n",
       "    progress {\n",
       "        /* gets rid of default border in Firefox and Opera. */\n",
       "        border: none;\n",
       "        /* Needs to be in here for Safari polyfill so background images work as expected. */\n",
       "        background-size: auto;\n",
       "    }\n",
       "    progress:not([value]), progress:not([value])::-webkit-progress-bar {\n",
       "        background: repeating-linear-gradient(45deg, #7e7e7e, #7e7e7e 10px, #5c5c5c 10px, #5c5c5c 20px);\n",
       "    }\n",
       "    .progress-bar-interrupted, .progress-bar-interrupted::-webkit-progress-bar {\n",
       "        background: #F44336;\n",
       "    }\n",
       "</style>\n"
      ],
      "text/plain": [
       "<IPython.core.display.HTML object>"
      ]
     },
     "metadata": {},
     "output_type": "display_data"
    },
    {
     "data": {
      "text/html": [],
      "text/plain": [
       "<IPython.core.display.HTML object>"
      ]
     },
     "metadata": {},
     "output_type": "display_data"
    },
    {
     "data": {
      "text/plain": [
       "SuggestedLRs(valley=0.05754399299621582)"
      ]
     },
     "execution_count": 19,
     "metadata": {},
     "output_type": "execute_result"
    },
    {
     "data": {
      "image/png": "[encoded data removed]",
      "text/plain": [
       "<Figure size 640x480 with 1 Axes>"
      ]
     },
     "metadata": {},
     "output_type": "display_data"
    }
   ],
   "source": [
    "learn = tabular_learner(dls, metrics=rmse)\n",
    "learn.lr_find()"
   ]
  },
  {
   "cell_type": "code",
   "execution_count": 20,
   "id": "b57ef1e4",
   "metadata": {
    "execution": {
     "iopub.execute_input": "2023-02-16T15:43:30.588091Z",
     "iopub.status.busy": "2023-02-16T15:43:30.586611Z",
     "iopub.status.idle": "2023-02-16T15:44:59.477350Z",
     "shell.execute_reply": "2023-02-16T15:44:59.476235Z"
    },
    "papermill": {
     "duration": 88.902208,
     "end_time": "2023-02-16T15:44:59.479573",
     "exception": false,
     "start_time": "2023-02-16T15:43:30.577365",
     "status": "completed"
    },
    "tags": []
   },
   "outputs": [
    {
     "data": {
      "text/html": [
       "\n",
       "<style>\n",
       "    /* Turns off some styling */\n",
       "    progress {\n",
       "        /* gets rid of default border in Firefox and Opera. */\n",
       "        border: none;\n",
       "        /* Needs to be in here for Safari polyfill so background images work as expected. */\n",
       "        background-size: auto;\n",
       "    }\n",
       "    progress:not([value]), progress:not([value])::-webkit-progress-bar {\n",
       "        background: repeating-linear-gradient(45deg, #7e7e7e, #7e7e7e 10px, #5c5c5c 10px, #5c5c5c 20px);\n",
       "    }\n",
       "    .progress-bar-interrupted, .progress-bar-interrupted::-webkit-progress-bar {\n",
       "        background: #F44336;\n",
       "    }\n",
       "</style>\n"
      ],
      "text/plain": [
       "<IPython.core.display.HTML object>"
      ]
     },
     "metadata": {},
     "output_type": "display_data"
    },
    {
     "data": {
      "text/html": [
       "<table border=\"1\" class=\"dataframe\">\n",
       "  <thead>\n",
       "    <tr style=\"text-align: left;\">\n",
       "      <th>epoch</th>\n",
       "      <th>train_loss</th>\n",
       "      <th>valid_loss</th>\n",
       "      <th>_rmse</th>\n",
       "      <th>time</th>\n",
       "    </tr>\n",
       "  </thead>\n",
       "  <tbody>\n",
       "    <tr>\n",
       "      <td>0</td>\n",
       "      <td>29951438880768.000000</td>\n",
       "      <td>29466967408640.000000</td>\n",
       "      <td>5428348.500000</td>\n",
       "      <td>00:03</td>\n",
       "    </tr>\n",
       "    <tr>\n",
       "      <td>1</td>\n",
       "      <td>30034182012928.000000</td>\n",
       "      <td>29466914979840.000000</td>\n",
       "      <td>5428344.000000</td>\n",
       "      <td>00:02</td>\n",
       "    </tr>\n",
       "    <tr>\n",
       "      <td>2</td>\n",
       "      <td>29793959542784.000000</td>\n",
       "      <td>29466835288064.000000</td>\n",
       "      <td>5428336.500000</td>\n",
       "      <td>00:02</td>\n",
       "    </tr>\n",
       "    <tr>\n",
       "      <td>3</td>\n",
       "      <td>30232331419648.000000</td>\n",
       "      <td>29466663321600.000000</td>\n",
       "      <td>5428320.500000</td>\n",
       "      <td>00:02</td>\n",
       "    </tr>\n",
       "    <tr>\n",
       "      <td>4</td>\n",
       "      <td>30147310780416.000000</td>\n",
       "      <td>29466296320000.000000</td>\n",
       "      <td>5428286.000000</td>\n",
       "      <td>00:03</td>\n",
       "    </tr>\n",
       "    <tr>\n",
       "      <td>5</td>\n",
       "      <td>29958416105472.000000</td>\n",
       "      <td>29465671368704.000000</td>\n",
       "      <td>5428229.000000</td>\n",
       "      <td>00:02</td>\n",
       "    </tr>\n",
       "    <tr>\n",
       "      <td>6</td>\n",
       "      <td>30476890800128.000000</td>\n",
       "      <td>29464939462656.000000</td>\n",
       "      <td>5428161.500000</td>\n",
       "      <td>00:02</td>\n",
       "    </tr>\n",
       "    <tr>\n",
       "      <td>7</td>\n",
       "      <td>30161663688704.000000</td>\n",
       "      <td>29463827972096.000000</td>\n",
       "      <td>5428059.000000</td>\n",
       "      <td>00:02</td>\n",
       "    </tr>\n",
       "    <tr>\n",
       "      <td>8</td>\n",
       "      <td>30023549452288.000000</td>\n",
       "      <td>29462592749568.000000</td>\n",
       "      <td>5427946.000000</td>\n",
       "      <td>00:02</td>\n",
       "    </tr>\n",
       "    <tr>\n",
       "      <td>9</td>\n",
       "      <td>30089808969728.000000</td>\n",
       "      <td>29461332361216.000000</td>\n",
       "      <td>5427829.500000</td>\n",
       "      <td>00:02</td>\n",
       "    </tr>\n",
       "    <tr>\n",
       "      <td>10</td>\n",
       "      <td>29520388161536.000000</td>\n",
       "      <td>29459656736768.000000</td>\n",
       "      <td>5427675.000000</td>\n",
       "      <td>00:02</td>\n",
       "    </tr>\n",
       "    <tr>\n",
       "      <td>11</td>\n",
       "      <td>30135648518144.000000</td>\n",
       "      <td>29458549440512.000000</td>\n",
       "      <td>5427573.000000</td>\n",
       "      <td>00:02</td>\n",
       "    </tr>\n",
       "    <tr>\n",
       "      <td>12</td>\n",
       "      <td>30177925005312.000000</td>\n",
       "      <td>29457240817664.000000</td>\n",
       "      <td>5427453.000000</td>\n",
       "      <td>00:02</td>\n",
       "    </tr>\n",
       "    <tr>\n",
       "      <td>13</td>\n",
       "      <td>30468835639296.000000</td>\n",
       "      <td>29455686828032.000000</td>\n",
       "      <td>5427309.500000</td>\n",
       "      <td>00:02</td>\n",
       "    </tr>\n",
       "    <tr>\n",
       "      <td>14</td>\n",
       "      <td>30362220625920.000000</td>\n",
       "      <td>29454415953920.000000</td>\n",
       "      <td>5427192.500000</td>\n",
       "      <td>00:02</td>\n",
       "    </tr>\n",
       "    <tr>\n",
       "      <td>15</td>\n",
       "      <td>29781632483328.000000</td>\n",
       "      <td>29452687900672.000000</td>\n",
       "      <td>5427032.500000</td>\n",
       "      <td>00:03</td>\n",
       "    </tr>\n",
       "    <tr>\n",
       "      <td>16</td>\n",
       "      <td>29915630010368.000000</td>\n",
       "      <td>29451364597760.000000</td>\n",
       "      <td>5426911.500000</td>\n",
       "      <td>00:02</td>\n",
       "    </tr>\n",
       "    <tr>\n",
       "      <td>17</td>\n",
       "      <td>30331985985536.000000</td>\n",
       "      <td>29450412490752.000000</td>\n",
       "      <td>5426823.500000</td>\n",
       "      <td>00:02</td>\n",
       "    </tr>\n",
       "    <tr>\n",
       "      <td>18</td>\n",
       "      <td>29833610395648.000000</td>\n",
       "      <td>29449644933120.000000</td>\n",
       "      <td>5426752.500000</td>\n",
       "      <td>00:02</td>\n",
       "    </tr>\n",
       "    <tr>\n",
       "      <td>19</td>\n",
       "      <td>30107154513920.000000</td>\n",
       "      <td>29453616939008.000000</td>\n",
       "      <td>5427118.500000</td>\n",
       "      <td>00:03</td>\n",
       "    </tr>\n",
       "    <tr>\n",
       "      <td>20</td>\n",
       "      <td>30370728771584.000000</td>\n",
       "      <td>29448176926720.000000</td>\n",
       "      <td>5426617.500000</td>\n",
       "      <td>00:02</td>\n",
       "    </tr>\n",
       "    <tr>\n",
       "      <td>21</td>\n",
       "      <td>30072631197696.000000</td>\n",
       "      <td>29447071727616.000000</td>\n",
       "      <td>5426516.000000</td>\n",
       "      <td>00:02</td>\n",
       "    </tr>\n",
       "    <tr>\n",
       "      <td>22</td>\n",
       "      <td>30440758968320.000000</td>\n",
       "      <td>29446975258624.000000</td>\n",
       "      <td>5426506.500000</td>\n",
       "      <td>00:03</td>\n",
       "    </tr>\n",
       "    <tr>\n",
       "      <td>23</td>\n",
       "      <td>30501773508608.000000</td>\n",
       "      <td>29446392250368.000000</td>\n",
       "      <td>5426453.000000</td>\n",
       "      <td>00:02</td>\n",
       "    </tr>\n",
       "    <tr>\n",
       "      <td>24</td>\n",
       "      <td>30124466503680.000000</td>\n",
       "      <td>29446299975680.000000</td>\n",
       "      <td>5426444.000000</td>\n",
       "      <td>00:02</td>\n",
       "    </tr>\n",
       "    <tr>\n",
       "      <td>25</td>\n",
       "      <td>30140438413312.000000</td>\n",
       "      <td>29446381764608.000000</td>\n",
       "      <td>5426452.000000</td>\n",
       "      <td>00:02</td>\n",
       "    </tr>\n",
       "    <tr>\n",
       "      <td>26</td>\n",
       "      <td>29862463012864.000000</td>\n",
       "      <td>29445391908864.000000</td>\n",
       "      <td>5426360.500000</td>\n",
       "      <td>00:03</td>\n",
       "    </tr>\n",
       "    <tr>\n",
       "      <td>27</td>\n",
       "      <td>30286291140608.000000</td>\n",
       "      <td>29445905711104.000000</td>\n",
       "      <td>5426408.500000</td>\n",
       "      <td>00:02</td>\n",
       "    </tr>\n",
       "    <tr>\n",
       "      <td>28</td>\n",
       "      <td>29989504286720.000000</td>\n",
       "      <td>29446075580416.000000</td>\n",
       "      <td>5426423.500000</td>\n",
       "      <td>00:02</td>\n",
       "    </tr>\n",
       "    <tr>\n",
       "      <td>29</td>\n",
       "      <td>30214792937472.000000</td>\n",
       "      <td>29444913758208.000000</td>\n",
       "      <td>5426316.500000</td>\n",
       "      <td>00:02</td>\n",
       "    </tr>\n",
       "  </tbody>\n",
       "</table>"
      ],
      "text/plain": [
       "<IPython.core.display.HTML object>"
      ]
     },
     "metadata": {},
     "output_type": "display_data"
    }
   ],
   "source": [
    "learn.fit_one_cycle(30,1e-3, wd=0.2)"
   ]
  },
  {
   "cell_type": "code",
   "execution_count": 21,
   "id": "9dbf7577",
   "metadata": {
    "execution": {
     "iopub.execute_input": "2023-02-16T15:44:59.499218Z",
     "iopub.status.busy": "2023-02-16T15:44:59.498934Z",
     "iopub.status.idle": "2023-02-16T15:44:59.556514Z",
     "shell.execute_reply": "2023-02-16T15:44:59.555464Z"
    },
    "papermill": {
     "duration": 0.070199,
     "end_time": "2023-02-16T15:44:59.559215",
     "exception": false,
     "start_time": "2023-02-16T15:44:59.489016",
     "status": "completed"
    },
    "tags": []
   },
   "outputs": [
    {
     "data": {
      "text/html": [
       "\n",
       "<style>\n",
       "    /* Turns off some styling */\n",
       "    progress {\n",
       "        /* gets rid of default border in Firefox and Opera. */\n",
       "        border: none;\n",
       "        /* Needs to be in here for Safari polyfill so background images work as expected. */\n",
       "        background-size: auto;\n",
       "    }\n",
       "    progress:not([value]), progress:not([value])::-webkit-progress-bar {\n",
       "        background: repeating-linear-gradient(45deg, #7e7e7e, #7e7e7e 10px, #5c5c5c 10px, #5c5c5c 20px);\n",
       "    }\n",
       "    .progress-bar-interrupted, .progress-bar-interrupted::-webkit-progress-bar {\n",
       "        background: #F44336;\n",
       "    }\n",
       "</style>\n"
      ],
      "text/plain": [
       "<IPython.core.display.HTML object>"
      ]
     },
     "metadata": {},
     "output_type": "display_data"
    },
    {
     "data": {
      "text/html": [],
      "text/plain": [
       "<IPython.core.display.HTML object>"
      ]
     },
     "metadata": {},
     "output_type": "display_data"
    },
    {
     "data": {
      "text/html": [
       "<table border=\"1\" class=\"dataframe\">\n",
       "  <thead>\n",
       "    <tr style=\"text-align: right;\">\n",
       "      <th></th>\n",
       "      <th>hasYard</th>\n",
       "      <th>hasPool</th>\n",
       "      <th>cityPartRange</th>\n",
       "      <th>numPrevOwners</th>\n",
       "      <th>isNewBuilt</th>\n",
       "      <th>hasStormProtector</th>\n",
       "      <th>hasStorageRoom</th>\n",
       "      <th>hasGuestRoom</th>\n",
       "      <th>squareMeters</th>\n",
       "      <th>numberOfRooms</th>\n",
       "      <th>floors</th>\n",
       "      <th>cityCode</th>\n",
       "      <th>made</th>\n",
       "      <th>basement</th>\n",
       "      <th>attic</th>\n",
       "      <th>garage</th>\n",
       "      <th>price</th>\n",
       "      <th>price_pred</th>\n",
       "    </tr>\n",
       "  </thead>\n",
       "  <tbody>\n",
       "    <tr>\n",
       "      <th>0</th>\n",
       "      <td>2.0</td>\n",
       "      <td>1.0</td>\n",
       "      <td>2.0</td>\n",
       "      <td>4.0</td>\n",
       "      <td>1.0</td>\n",
       "      <td>1.0</td>\n",
       "      <td>1.0</td>\n",
       "      <td>6.0</td>\n",
       "      <td>0.525089</td>\n",
       "      <td>-1.142652</td>\n",
       "      <td>-0.181020</td>\n",
       "      <td>-1.443302</td>\n",
       "      <td>0.064512</td>\n",
       "      <td>-1.716333</td>\n",
       "      <td>0.261175</td>\n",
       "      <td>0.831480</td>\n",
       "      <td>7492753.500</td>\n",
       "      <td>2978.093750</td>\n",
       "    </tr>\n",
       "    <tr>\n",
       "      <th>1</th>\n",
       "      <td>1.0</td>\n",
       "      <td>2.0</td>\n",
       "      <td>7.0</td>\n",
       "      <td>9.0</td>\n",
       "      <td>2.0</td>\n",
       "      <td>2.0</td>\n",
       "      <td>2.0</td>\n",
       "      <td>2.0</td>\n",
       "      <td>-0.226265</td>\n",
       "      <td>1.302030</td>\n",
       "      <td>0.592344</td>\n",
       "      <td>-1.129258</td>\n",
       "      <td>-0.063516</td>\n",
       "      <td>-1.446783</td>\n",
       "      <td>0.814914</td>\n",
       "      <td>-0.360613</td>\n",
       "      <td>3475230.250</td>\n",
       "      <td>731.783020</td>\n",
       "    </tr>\n",
       "    <tr>\n",
       "      <th>2</th>\n",
       "      <td>2.0</td>\n",
       "      <td>1.0</td>\n",
       "      <td>10.0</td>\n",
       "      <td>1.0</td>\n",
       "      <td>2.0</td>\n",
       "      <td>1.0</td>\n",
       "      <td>1.0</td>\n",
       "      <td>1.0</td>\n",
       "      <td>0.856612</td>\n",
       "      <td>-0.894641</td>\n",
       "      <td>-0.161686</td>\n",
       "      <td>0.255667</td>\n",
       "      <td>-0.025861</td>\n",
       "      <td>0.660460</td>\n",
       "      <td>-0.650146</td>\n",
       "      <td>-1.385589</td>\n",
       "      <td>9259876.000</td>\n",
       "      <td>4012.780762</td>\n",
       "    </tr>\n",
       "    <tr>\n",
       "      <th>3</th>\n",
       "      <td>1.0</td>\n",
       "      <td>2.0</td>\n",
       "      <td>2.0</td>\n",
       "      <td>8.0</td>\n",
       "      <td>2.0</td>\n",
       "      <td>1.0</td>\n",
       "      <td>1.0</td>\n",
       "      <td>8.0</td>\n",
       "      <td>-0.650214</td>\n",
       "      <td>-1.496954</td>\n",
       "      <td>-0.857714</td>\n",
       "      <td>0.802035</td>\n",
       "      <td>-0.018330</td>\n",
       "      <td>0.555873</td>\n",
       "      <td>-1.458923</td>\n",
       "      <td>-0.572293</td>\n",
       "      <td>1213311.625</td>\n",
       "      <td>-538.002686</td>\n",
       "    </tr>\n",
       "    <tr>\n",
       "      <th>4</th>\n",
       "      <td>2.0</td>\n",
       "      <td>2.0</td>\n",
       "      <td>2.0</td>\n",
       "      <td>6.0</td>\n",
       "      <td>1.0</td>\n",
       "      <td>1.0</td>\n",
       "      <td>2.0</td>\n",
       "      <td>8.0</td>\n",
       "      <td>0.992032</td>\n",
       "      <td>0.380845</td>\n",
       "      <td>-0.239022</td>\n",
       "      <td>1.632749</td>\n",
       "      <td>0.072043</td>\n",
       "      <td>0.663100</td>\n",
       "      <td>0.400767</td>\n",
       "      <td>1.689341</td>\n",
       "      <td>9985837.000</td>\n",
       "      <td>4433.102539</td>\n",
       "    </tr>\n",
       "    <tr>\n",
       "      <th>5</th>\n",
       "      <td>1.0</td>\n",
       "      <td>1.0</td>\n",
       "      <td>3.0</td>\n",
       "      <td>2.0</td>\n",
       "      <td>1.0</td>\n",
       "      <td>1.0</td>\n",
       "      <td>2.0</td>\n",
       "      <td>8.0</td>\n",
       "      <td>-0.675333</td>\n",
       "      <td>-1.532384</td>\n",
       "      <td>0.186328</td>\n",
       "      <td>-0.342555</td>\n",
       "      <td>-0.003268</td>\n",
       "      <td>0.208790</td>\n",
       "      <td>-0.919077</td>\n",
       "      <td>0.174158</td>\n",
       "      <td>1079918.750</td>\n",
       "      <td>-610.636414</td>\n",
       "    </tr>\n",
       "    <tr>\n",
       "      <th>6</th>\n",
       "      <td>2.0</td>\n",
       "      <td>1.0</td>\n",
       "      <td>9.0</td>\n",
       "      <td>10.0</td>\n",
       "      <td>1.0</td>\n",
       "      <td>1.0</td>\n",
       "      <td>1.0</td>\n",
       "      <td>2.0</td>\n",
       "      <td>-0.651899</td>\n",
       "      <td>-0.363189</td>\n",
       "      <td>-0.548368</td>\n",
       "      <td>0.647980</td>\n",
       "      <td>0.049450</td>\n",
       "      <td>-0.238261</td>\n",
       "      <td>-0.649485</td>\n",
       "      <td>1.358823</td>\n",
       "      <td>1198963.500</td>\n",
       "      <td>-540.312378</td>\n",
       "    </tr>\n",
       "    <tr>\n",
       "      <th>7</th>\n",
       "      <td>1.0</td>\n",
       "      <td>2.0</td>\n",
       "      <td>4.0</td>\n",
       "      <td>3.0</td>\n",
       "      <td>1.0</td>\n",
       "      <td>2.0</td>\n",
       "      <td>1.0</td>\n",
       "      <td>10.0</td>\n",
       "      <td>0.670036</td>\n",
       "      <td>1.302030</td>\n",
       "      <td>-0.123018</td>\n",
       "      <td>-0.425281</td>\n",
       "      <td>-0.033392</td>\n",
       "      <td>0.655181</td>\n",
       "      <td>-0.510223</td>\n",
       "      <td>-1.144200</td>\n",
       "      <td>8265275.500</td>\n",
       "      <td>3462.172119</td>\n",
       "    </tr>\n",
       "    <tr>\n",
       "      <th>8</th>\n",
       "      <td>1.0</td>\n",
       "      <td>1.0</td>\n",
       "      <td>6.0</td>\n",
       "      <td>6.0</td>\n",
       "      <td>2.0</td>\n",
       "      <td>2.0</td>\n",
       "      <td>2.0</td>\n",
       "      <td>9.0</td>\n",
       "      <td>-0.108813</td>\n",
       "      <td>-1.567814</td>\n",
       "      <td>0.650346</td>\n",
       "      <td>-1.340565</td>\n",
       "      <td>-0.040923</td>\n",
       "      <td>0.638685</td>\n",
       "      <td>0.573108</td>\n",
       "      <td>0.653223</td>\n",
       "      <td>4097629.000</td>\n",
       "      <td>1084.224976</td>\n",
       "    </tr>\n",
       "  </tbody>\n",
       "</table>"
      ],
      "text/plain": [
       "<IPython.core.display.HTML object>"
      ]
     },
     "metadata": {},
     "output_type": "display_data"
    }
   ],
   "source": [
    "learn.show_results()"
   ]
  },
  {
   "cell_type": "markdown",
   "id": "f6b2f64e",
   "metadata": {
    "papermill": {
     "duration": 0.00879,
     "end_time": "2023-02-16T15:44:59.577357",
     "exception": false,
     "start_time": "2023-02-16T15:44:59.568567",
     "status": "completed"
    },
    "tags": []
   },
   "source": [
    "Predictions on validation set"
   ]
  },
  {
   "cell_type": "code",
   "execution_count": 22,
   "id": "ed995e6f",
   "metadata": {
    "execution": {
     "iopub.execute_input": "2023-02-16T15:44:59.596756Z",
     "iopub.status.busy": "2023-02-16T15:44:59.596450Z",
     "iopub.status.idle": "2023-02-16T15:44:59.617627Z",
     "shell.execute_reply": "2023-02-16T15:44:59.616770Z"
    },
    "papermill": {
     "duration": 0.03311,
     "end_time": "2023-02-16T15:44:59.619534",
     "exception": false,
     "start_time": "2023-02-16T15:44:59.586424",
     "status": "completed"
    },
    "tags": []
   },
   "outputs": [],
   "source": [
    "dl = learn.dls.test_dl(test_df)"
   ]
  },
  {
   "cell_type": "code",
   "execution_count": 23,
   "id": "fc720955",
   "metadata": {
    "execution": {
     "iopub.execute_input": "2023-02-16T15:44:59.638502Z",
     "iopub.status.busy": "2023-02-16T15:44:59.638225Z",
     "iopub.status.idle": "2023-02-16T15:45:00.568932Z",
     "shell.execute_reply": "2023-02-16T15:45:00.567957Z"
    },
    "papermill": {
     "duration": 0.942681,
     "end_time": "2023-02-16T15:45:00.571196",
     "exception": false,
     "start_time": "2023-02-16T15:44:59.628515",
     "status": "completed"
    },
    "tags": []
   },
   "outputs": [
    {
     "data": {
      "text/html": [
       "\n",
       "<style>\n",
       "    /* Turns off some styling */\n",
       "    progress {\n",
       "        /* gets rid of default border in Firefox and Opera. */\n",
       "        border: none;\n",
       "        /* Needs to be in here for Safari polyfill so background images work as expected. */\n",
       "        background-size: auto;\n",
       "    }\n",
       "    progress:not([value]), progress:not([value])::-webkit-progress-bar {\n",
       "        background: repeating-linear-gradient(45deg, #7e7e7e, #7e7e7e 10px, #5c5c5c 10px, #5c5c5c 20px);\n",
       "    }\n",
       "    .progress-bar-interrupted, .progress-bar-interrupted::-webkit-progress-bar {\n",
       "        background: #F44336;\n",
       "    }\n",
       "</style>\n"
      ],
      "text/plain": [
       "<IPython.core.display.HTML object>"
      ]
     },
     "metadata": {},
     "output_type": "display_data"
    },
    {
     "data": {
      "text/html": [],
      "text/plain": [
       "<IPython.core.display.HTML object>"
      ]
     },
     "metadata": {},
     "output_type": "display_data"
    },
    {
     "data": {
      "text/plain": [
       "(tensor([[1474.3231],\n",
       "         [2298.7195],\n",
       "         [3911.6226],\n",
       "         ...,\n",
       "         [2939.7410],\n",
       "         [3169.7900],\n",
       "         [-193.7836]]),\n",
       " None)"
      ]
     },
     "execution_count": 23,
     "metadata": {},
     "output_type": "execute_result"
    }
   ],
   "source": [
    "preds = learn.get_preds(dl=dl)\n",
    "preds"
   ]
  },
  {
   "cell_type": "markdown",
   "id": "3625cac8",
   "metadata": {
    "papermill": {
     "duration": 0.013325,
     "end_time": "2023-02-16T15:45:00.598715",
     "exception": false,
     "start_time": "2023-02-16T15:45:00.585390",
     "status": "completed"
    },
    "tags": []
   },
   "source": [
    "Submit to kaggle|"
   ]
  },
  {
   "cell_type": "code",
   "execution_count": 24,
   "id": "ed49b6a6",
   "metadata": {
    "execution": {
     "iopub.execute_input": "2023-02-16T15:45:00.627209Z",
     "iopub.status.busy": "2023-02-16T15:45:00.626851Z",
     "iopub.status.idle": "2023-02-16T15:45:00.631458Z",
     "shell.execute_reply": "2023-02-16T15:45:00.630564Z"
    },
    "papermill": {
     "duration": 0.021274,
     "end_time": "2023-02-16T15:45:00.633616",
     "exception": false,
     "start_time": "2023-02-16T15:45:00.612342",
     "status": "completed"
    },
    "tags": []
   },
   "outputs": [],
   "source": [
    "target_preds = preds[0]"
   ]
  },
  {
   "cell_type": "code",
   "execution_count": 25,
   "id": "6bb5129b",
   "metadata": {
    "execution": {
     "iopub.execute_input": "2023-02-16T15:45:00.662142Z",
     "iopub.status.busy": "2023-02-16T15:45:00.661841Z",
     "iopub.status.idle": "2023-02-16T15:45:00.723888Z",
     "shell.execute_reply": "2023-02-16T15:45:00.722979Z"
    },
    "papermill": {
     "duration": 0.078798,
     "end_time": "2023-02-16T15:45:00.726133",
     "exception": false,
     "start_time": "2023-02-16T15:45:00.647335",
     "status": "completed"
    },
    "tags": []
   },
   "outputs": [
    {
     "data": {
      "text/html": [
       "<div>\n",
       "<style scoped>\n",
       "    .dataframe tbody tr th:only-of-type {\n",
       "        vertical-align: middle;\n",
       "    }\n",
       "\n",
       "    .dataframe tbody tr th {\n",
       "        vertical-align: top;\n",
       "    }\n",
       "\n",
       "    .dataframe thead th {\n",
       "        text-align: right;\n",
       "    }\n",
       "</style>\n",
       "<table border=\"1\" class=\"dataframe\">\n",
       "  <thead>\n",
       "    <tr style=\"text-align: right;\">\n",
       "      <th></th>\n",
       "      <th>id</th>\n",
       "      <th>price</th>\n",
       "    </tr>\n",
       "  </thead>\n",
       "  <tbody>\n",
       "    <tr>\n",
       "      <th>0</th>\n",
       "      <td>22730</td>\n",
       "      <td>1474.32310</td>\n",
       "    </tr>\n",
       "    <tr>\n",
       "      <th>1</th>\n",
       "      <td>22731</td>\n",
       "      <td>2298.71950</td>\n",
       "    </tr>\n",
       "    <tr>\n",
       "      <th>2</th>\n",
       "      <td>22732</td>\n",
       "      <td>3911.62260</td>\n",
       "    </tr>\n",
       "    <tr>\n",
       "      <th>3</th>\n",
       "      <td>22733</td>\n",
       "      <td>-292.88934</td>\n",
       "    </tr>\n",
       "    <tr>\n",
       "      <th>4</th>\n",
       "      <td>22734</td>\n",
       "      <td>2587.60990</td>\n",
       "    </tr>\n",
       "  </tbody>\n",
       "</table>\n",
       "</div>"
      ],
      "text/plain": [
       "      id       price\n",
       "0  22730  1474.32310\n",
       "1  22731  2298.71950\n",
       "2  22732  3911.62260\n",
       "3  22733  -292.88934\n",
       "4  22734  2587.60990"
      ]
     },
     "execution_count": 25,
     "metadata": {},
     "output_type": "execute_result"
    }
   ],
   "source": [
    "test_df['price'] = target_preds\n",
    "\n",
    "test_df.to_csv('submission.csv', columns=['price'], index=True)\n",
    "\n",
    "submission = pd.read_csv('submission.csv')\n",
    "submission.head()"
   ]
  },
  {
   "cell_type": "code",
   "execution_count": null,
   "id": "60657aa7",
   "metadata": {
    "papermill": {
     "duration": 0.013718,
     "end_time": "2023-02-16T15:45:00.754102",
     "exception": false,
     "start_time": "2023-02-16T15:45:00.740384",
     "status": "completed"
    },
    "tags": []
   },
   "outputs": [],
   "source": []
  }
 ],
 "metadata": {
  "kernelspec": {
   "display_name": "Python 3",
   "language": "python",
   "name": "python3"
  },
  "language_info": {
   "codemirror_mode": {
    "name": "ipython",
    "version": 3
   },
   "file_extension": ".py",
   "mimetype": "text/x-python",
   "name": "python",
   "nbconvert_exporter": "python",
   "pygments_lexer": "ipython3",
   "version": "3.7.12"
  },
  "papermill": {
   "default_parameters": {},
   "duration": 110.228931,
   "end_time": "2023-02-16T15:45:01.995227",
   "environment_variables": {},
   "exception": null,
   "input_path": "__notebook__.ipynb",
   "output_path": "__notebook__.ipynb",
   "parameters": {},
   "start_time": "2023-02-16T15:43:11.766296",
   "version": "2.3.4"
  }
 },
 "nbformat": 4,
 "nbformat_minor": 5
}
